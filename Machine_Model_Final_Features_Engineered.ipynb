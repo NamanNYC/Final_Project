{
  "nbformat": 4,
  "nbformat_minor": 0,
  "metadata": {
    "kernelspec": {
      "name": "python3",
      "display_name": "Python 3.7.10 64-bit ('mlenv': conda)"
    },
    "language_info": {
      "codemirror_mode": {
        "name": "ipython",
        "version": 3
      },
      "file_extension": ".py",
      "mimetype": "text/x-python",
      "name": "python",
      "nbconvert_exporter": "python",
      "pygments_lexer": "ipython3",
      "version": "3.7.10"
    },
    "interpreter": {
      "hash": "8f054b597b2ef4dde2d25518563f881228f0d6fd6f220519300f35ef92b84afb"
    },
    "colab": {
      "name": "Machine_Model_Final_Features_Engineered.ipynb",
      "provenance": [],
      "collapsed_sections": [],
      "include_colab_link": true
    }
  },
  "cells": [
    {
      "cell_type": "markdown",
      "metadata": {
        "id": "view-in-github",
        "colab_type": "text"
      },
      "source": [
        "<a href=\"https://colab.research.google.com/github/NamanNYC/Final_Project/blob/Anna/Machine_Model_Final_Features_Engineered.ipynb\" target=\"_parent\"><img src=\"https://colab.research.google.com/assets/colab-badge.svg\" alt=\"Open In Colab\"/></a>"
      ]
    },
    {
      "cell_type": "code",
      "metadata": {
        "id": "I5kPIC-rWx8Y"
      },
      "source": [
        "# Provisional machine learning model looking the accuracy of predicting forest fires in Alberta, CA\n",
        "# Segment 1 Deliverables "
      ],
      "execution_count": null,
      "outputs": []
    },
    {
      "cell_type": "code",
      "metadata": {
        "id": "BClaTq0-wcKp"
      },
      "source": [
        "import pandas as pd\n",
        "import numpy as np\n",
        "\n"
      ],
      "execution_count": null,
      "outputs": []
    },
    {
      "cell_type": "code",
      "metadata": {
        "colab": {
          "base_uri": "https://localhost:8080/"
        },
        "id": "qVtTbBjwtAqI",
        "outputId": "90280e89-5295-405c-855f-75480bc4d788"
      },
      "source": [
        "import os\n",
        "# Find the latest version of spark 3.0 from http://www.apache.org/dist/spark/ and enter as the spark version\n",
        "# For example:\n",
        "# spark_version = 'spark-3.0.3'\n",
        "spark_version = 'spark-3.0.3'\n",
        "os.environ['SPARK_VERSION']=spark_version\n",
        "\n",
        "# Install Spark and Java\n",
        "!apt-get update\n",
        "!apt-get install openjdk-11-jdk-headless -qq > /dev/null\n",
        "!wget -q http://www.apache.org/dist/spark/$SPARK_VERSION/$SPARK_VERSION-bin-hadoop2.7.tgz\n",
        "!tar xf $SPARK_VERSION-bin-hadoop2.7.tgz\n",
        "!pip install -q findspark\n",
        "\n",
        "# Set Environment Variables\n",
        "import os\n",
        "os.environ[\"JAVA_HOME\"] = \"/usr/lib/jvm/java-11-openjdk-amd64\"\n",
        "os.environ[\"SPARK_HOME\"] = f\"/content/{spark_version}-bin-hadoop2.7\"\n",
        "\n",
        "# Start a SparkSession\n",
        "import findspark\n",
        "findspark.init()"
      ],
      "execution_count": null,
      "outputs": [
        {
          "output_type": "stream",
          "name": "stdout",
          "text": [
            "\r0% [Working]\r            \rGet:1 http://security.ubuntu.com/ubuntu bionic-security InRelease [88.7 kB]\n",
            "\r0% [Connecting to archive.ubuntu.com] [1 InRelease 14.2 kB/88.7 kB 16%] [Connec\r                                                                               \rGet:2 https://cloud.r-project.org/bin/linux/ubuntu bionic-cran40/ InRelease [3,626 B]\n",
            "Ign:3 https://developer.download.nvidia.com/compute/cuda/repos/ubuntu1804/x86_64  InRelease\n",
            "Ign:4 https://developer.download.nvidia.com/compute/machine-learning/repos/ubuntu1804/x86_64  InRelease\n",
            "Get:5 http://ppa.launchpad.net/c2d4u.team/c2d4u4.0+/ubuntu bionic InRelease [15.9 kB]\n",
            "Hit:6 https://developer.download.nvidia.com/compute/cuda/repos/ubuntu1804/x86_64  Release\n",
            "Hit:7 https://developer.download.nvidia.com/compute/machine-learning/repos/ubuntu1804/x86_64  Release\n",
            "Hit:8 http://archive.ubuntu.com/ubuntu bionic InRelease\n",
            "Get:9 https://cloud.r-project.org/bin/linux/ubuntu bionic-cran40/ Packages [67.4 kB]\n",
            "Get:10 http://archive.ubuntu.com/ubuntu bionic-updates InRelease [88.7 kB]\n",
            "Hit:11 http://ppa.launchpad.net/cran/libgit2/ubuntu bionic InRelease\n",
            "Get:12 http://security.ubuntu.com/ubuntu bionic-security/universe amd64 Packages [1,428 kB]\n",
            "Hit:13 http://ppa.launchpad.net/deadsnakes/ppa/ubuntu bionic InRelease\n",
            "Get:14 http://security.ubuntu.com/ubuntu bionic-security/main amd64 Packages [2,326 kB]\n",
            "Get:15 http://archive.ubuntu.com/ubuntu bionic-backports InRelease [74.6 kB]\n",
            "Hit:16 http://ppa.launchpad.net/graphics-drivers/ppa/ubuntu bionic InRelease\n",
            "Get:19 http://ppa.launchpad.net/c2d4u.team/c2d4u4.0+/ubuntu bionic/main Sources [1,802 kB]\n",
            "Get:20 http://archive.ubuntu.com/ubuntu bionic-updates/restricted amd64 Packages [613 kB]\n",
            "Get:21 http://ppa.launchpad.net/c2d4u.team/c2d4u4.0+/ubuntu bionic/main amd64 Packages [922 kB]\n",
            "Get:22 http://archive.ubuntu.com/ubuntu bionic-updates/universe amd64 Packages [2,202 kB]\n",
            "Get:23 http://archive.ubuntu.com/ubuntu bionic-updates/main amd64 Packages [2,770 kB]\n",
            "Fetched 12.4 MB in 4s (3,439 kB/s)\n",
            "Reading package lists... Done\n"
          ]
        }
      ]
    },
    {
      "cell_type": "code",
      "metadata": {
        "colab": {
          "base_uri": "https://localhost:8080/"
        },
        "id": "hJmzLgJO6W_G",
        "outputId": "717a84f9-fcb8-4d90-80d9-2c2acd55ee66"
      },
      "source": [
        "# Download the Postgres driver that will allow Spark to interact with Postgres.\n",
        "!wget https://jdbc.postgresql.org/download/postgresql-42.2.16.jar"
      ],
      "execution_count": null,
      "outputs": [
        {
          "output_type": "stream",
          "name": "stdout",
          "text": [
            "--2021-09-22 04:54:03--  https://jdbc.postgresql.org/download/postgresql-42.2.16.jar\n",
            "Resolving jdbc.postgresql.org (jdbc.postgresql.org)... 72.32.157.228, 2001:4800:3e1:1::228\n",
            "Connecting to jdbc.postgresql.org (jdbc.postgresql.org)|72.32.157.228|:443... connected.\n",
            "HTTP request sent, awaiting response... 200 OK\n",
            "Length: 1002883 (979K) [application/java-archive]\n",
            "Saving to: ‘postgresql-42.2.16.jar’\n",
            "\n",
            "postgresql-42.2.16. 100%[===================>] 979.38K  --.-KB/s    in 0.1s    \n",
            "\n",
            "2021-09-22 04:54:03 (9.51 MB/s) - ‘postgresql-42.2.16.jar’ saved [1002883/1002883]\n",
            "\n"
          ]
        }
      ]
    },
    {
      "cell_type": "code",
      "metadata": {
        "id": "tJsmiSgm8ivb"
      },
      "source": [
        "# Start Spark session\n",
        "from pyspark.sql import SparkSession\n",
        "from pyspark.sql.functions import substring, length, col, expr, to_timestamp, date_format, round\n",
        "\n",
        "spark = SparkSession.builder.appName(\"LMPT-Forest-Fires\").config(\"spark.driver.extraClassPath\",\"/content/postgresql-42.2.16.jar\").getOrCreate()"
      ],
      "execution_count": null,
      "outputs": []
    },
    {
      "cell_type": "code",
      "metadata": {
        "id": "kk-9Wil_8tto"
      },
      "source": [
        "connection_string = 'lmpt-finalproject.coke2w4vs8wf.us-east-2.rds.amazonaws.com'\n",
        "password = 'LMPTp4ssw0rd' \n",
        "database_name = 'postgres'\n",
        "\n",
        "# Configure settings for RDS\n",
        "mode = \"append\"\n",
        "jdbc_url=f\"jdbc:postgresql://{connection_string}:5432/{database_name}\"\n",
        "config = {\"user\":\"postgres\", \n",
        "          \"password\": password, \n",
        "          \"driver\":\"org.postgresql.Driver\"}\n"
      ],
      "execution_count": null,
      "outputs": []
    },
    {
      "cell_type": "code",
      "metadata": {
        "id": "SAOq5uaYhP_a"
      },
      "source": [
        "# Read in data \n",
        "df = spark.read.jdbc(jdbc_url,table='fires_2006to2018',properties=config)"
      ],
      "execution_count": null,
      "outputs": []
    },
    {
      "cell_type": "code",
      "metadata": {
        "colab": {
          "base_uri": "https://localhost:8080/"
        },
        "id": "nckxUCivnIOh",
        "outputId": "a155777c-b6aa-47f6-cfee-a8d1e0b3aeff"
      },
      "source": [
        "# Show dataframe \n",
        "df.show()"
      ],
      "execution_count": null,
      "outputs": [
        {
          "output_type": "stream",
          "name": "stdout",
          "text": [
            "+-----------+---------+---------+-------------+-------------------+-------------------+------------+----------+----------------------+-----------------------+------------------+------------------+------------------------+----------------------+-------------------+-------------------+--------------------+-------------------+--------------+---------+-------------------+-------------------+-------------------+------------------------+------------------------+-----------------+---------+----------------------+----------------------------+---------+---------------+-------------------+-----------+-------------------+-----------+-------------------+-----------+-------------------+-----------+\n",
            "|fire_number|fire_name|fire_year|calendar_year|assessment_datetime|assessment_hectares|current_size|size_class|fire_location_latitude|fire_location_longitude|       fire_origin|general_cause_desc|industry_identifier_desc|responsible_group_desc|     activity_class|         true_cause|  permit_detail_desc|    fire_start_date|det_agent_type|det_agent|    discovered_date|      reported_date|start_for_fire_date|fire_fighting_start_date|fire_fighting_start_size|initial_action_by|fire_type|fire_position_on_slope|weather_conditions_over_fire|fuel_type|other_fuel_type|         bh_fs_date|bh_hectares|         uc_fs_date|uc_hectares|         to_fs_date|to_hectares|         ex_fs_date|ex_hectares|\n",
            "+-----------+---------+---------+-------------+-------------------+-------------------+------------+----------+----------------------+-----------------------+------------------+------------------+------------------------+----------------------+-------------------+-------------------+--------------------+-------------------+--------------+---------+-------------------+-------------------+-------------------+------------------------+------------------------+-----------------+---------+----------------------+----------------------------+---------+---------------+-------------------+-----------+-------------------+-----------+-------------------+-----------+-------------------+-----------+\n",
            "|     PWF161|     null|     2015|         2015|2015-07-29 20:38:00|               0.01|        0.01|         A|               56.3449|             -119.72005|   Provincial Land|   Forest Industry|                    null|                  null|         Operations|       Vehicle Fire|                null|2015-07-29 18:00:00|           LKT|       CH|2015-07-29 19:25:00|2015-07-29 19:28:00|2015-07-29 19:42:00|                      NA|                      NA|           Public|  Surface|                  Flat|                       Clear|      O1b|           null|2015-07-29 20:38:00|       0.01|2015-07-30 12:49:00|       0.01|                 NA|         NA|2015-07-30 12:50:00|       0.01|\n",
            "|     PWF162|     null|     2015|         2015|2015-07-30 19:43:00|                1.0|         0.4|         B|             56.305283|            -116.574333|   Provincial Land|      Undetermined|                    null|                  null|               null|               null|                null|2015-07-29 15:00:00|           UNP|      310|                 NA|2015-07-30 19:19:00|2015-07-30 19:25:00|     2015-07-30 19:54:00|                       1|              HAC|  Surface|                  Flat|                       Clear|       C2|           null|2015-07-30 21:01:00|        0.4|2015-07-31 09:48:00|        0.4|                 NA|         NA|2015-07-31 13:15:00|        0.4|\n",
            "|     PWF163|     null|     2015|         2015|2015-07-31 12:34:00|                0.1|         0.1|         A|             56.119933|             -116.52155|   Provincial Land|         Lightning|                    null|                  null|               null|               null|                null|2015-07-27 12:00:00|           AIR|      HAC|2015-07-31 12:31:00|2015-07-31 12:31:00|2015-07-31 12:31:00|     2015-07-31 12:59:00|                     0.1|              HAC|  Surface|                  Flat|                      Cloudy|       M2|           null|2015-07-31 13:08:00|        0.1|2015-07-31 15:47:00|        0.1|                 NA|         NA|2015-07-31 17:15:00|        0.1|\n",
            "|     PWF164|     null|     2015|         2015|2015-07-31 23:15:00|                0.1|         0.1|         A|             56.407617|               -117.235|      Private Land|         Lightning|                    null|                  null|               null|               null|                null|2015-07-11 21:04:00|           UNP|      310|                 NA|2015-07-31 22:01:00|2015-07-31 22:18:00|                      NA|                      NA|  Fire Department|   Ground|                  Flat|                      Cloudy|       M2|           null|2015-07-31 23:15:00|        0.1|2015-08-01 12:40:00|        0.1|                 NA|         NA|2015-08-16 16:14:00|        0.1|\n",
            "|     PWF165|     null|     2015|         2015|2015-08-03 15:45:00|               0.01|        0.01|         A|             56.337167|             -117.30495|      Private Land|          Resident|                    null|                  null|    Debris Disposal|        Unsafe Fire|Burning Without P...|2015-08-03 13:00:00|           UNP|      LFS|2015-08-03 14:45:00|2015-08-03 14:50:00|2015-08-03 14:54:00|                      NA|                      NA|       Land Owner|   Ground|                  Flat|                       Clear|     null|       burn pit|2015-08-03 15:45:00|       0.01|2015-08-03 16:05:00|       0.01|2015-08-03 16:15:00|       0.01|2015-08-06 15:25:00|       0.01|\n",
            "|     PWF166|     null|     2015|         2015|2015-08-16 16:24:00|                0.5|         0.5|         B|             56.339867|              -117.3017|      Private Land|      Undetermined|                    null|                  null|               null|               null|                null|2015-08-16 12:00:00|           AIR|      HAC|2015-08-16 16:12:00|2015-08-16 16:12:00|2015-08-16 16:12:00|     2015-08-16 16:36:00|                     0.5|              HAC|  Surface|                  Flat|                       Clear|      O1b|           null|2015-08-16 17:05:00|        0.5|2015-08-16 20:22:00|        0.5|                 NA|         NA|2015-08-17 10:20:00|        0.5|\n",
            "|     PWF167|     null|     2015|         2015|2015-08-17 15:33:00|                0.1|         0.3|         B|             56.232983|            -116.663933|   Provincial Land|         Lightning|                    null|                  null|               null|               null|                null|2015-08-10 15:00:00|           AIR|      HAC|2015-08-17 15:33:00|2015-08-17 15:33:00|2015-08-17 15:33:00|     2015-08-17 16:02:00|                     0.3|              HAC|   Ground|                  Flat|                      Cloudy|       C2|           null|2015-08-18 09:45:00|        0.3|2015-08-18 14:45:00|        0.3|                 NA|         NA|2015-08-19 10:45:00|        0.3|\n",
            "|     PWF168|     null|     2015|         2015|2015-08-17 20:22:00|               0.01|        0.01|         A|               56.4309|            -118.115117|   Provincial Land|         Lightning|                    null|                  null|               null|               null|                null|2015-08-01 12:00:00|           LKT|       WD|2015-08-17 19:20:00|2015-08-17 19:20:00|2015-08-17 19:30:00|     2015-08-18 14:09:00|                    0.01|              HAC|  Surface|            Middle 1/3|                       Clear|       M2|           null|2015-08-17 20:22:00|       0.01|2015-08-18 16:20:00|       0.01|                 NA|         NA|2015-08-18 18:45:00|       0.01|\n",
            "|     CWF001|     null|     2006|         2006|2006-04-02 16:00:00|                0.2|         0.2|         B|             51.152933|              -115.0346|Indian Reservation|          Resident|                    null|              Resident|       Unclassified|        Unsafe Fire|                null|2006-04-02 14:25:00|           UNP|      310|2006-04-02 14:27:00|2006-04-02 14:30:00|2006-04-02 14:45:00|                      NA|                      NA|  Fire Department|  Surface|                  Flat|                       Clear|      O1b|           null|2006-04-02 16:00:00|        0.2|2006-04-02 16:00:00|        0.2|                 NA|         NA|2006-04-03 18:00:00|        0.2|\n",
            "|     CWF002|     null|     2006|         2006|2006-04-03 16:45:00|               0.01|        0.01|         A|             51.157633|            -115.002133|Indian Reservation|      Undetermined|                    null|                  null|               null|               null|                null|2006-04-03 15:30:00|           UNP|      310|                 NA|2006-04-03 15:40:00|2006-04-03 15:50:00|                      NA|                      NA|  Fire Department|  Surface|                  Flat|                      Cloudy|      O1b|           null|2006-04-03 16:45:00|       0.01|2006-04-03 16:45:00|       0.01|                 NA|         NA|2006-04-03 16:50:00|       0.01|\n",
            "|     CWF003|     null|     2006|         2006|2006-04-08 20:05:00|               0.01|        0.01|         A|               51.1944|            -114.516167|Indian Reservation|        Recreation|                    null|                Hikers|            Cooking|     Abandoned Fire|                null|2006-04-08 19:00:00|           UNP|      310|                 NA|2006-04-08 19:16:00|2006-04-08 19:30:00|     2006-04-08 20:05:00|                    0.01|        FPD Staff|   Ground|                Bottom|                      Cloudy|     null|       Campfire|2006-04-08 20:05:00|       0.01|2006-04-08 20:05:00|       0.01|                 NA|         NA|2006-04-09 20:30:00|       0.01|\n",
            "|     CWF004|     null|     2006|         2006|2006-04-13 18:20:00|               0.75|        0.75|         B|             51.125617|            -114.841683|Indian Reservation|          Resident|                    null|              Resident|            Smoking|  Burning Substance|                null|2006-04-13 17:33:00|           UNP|      PUB|2006-04-13 17:33:00|2006-04-13 17:35:00|2006-04-13 17:52:00|                      NA|                      NA|           Public|  Surface|                Bottom|                      Cloudy|      O1a|           null|2006-04-13 18:20:00|       0.75|2006-04-13 18:20:00|       0.75|                 NA|         NA|2006-04-13 20:00:00|       0.75|\n",
            "|     CWF005|     null|     2006|         2006|2006-04-14 17:25:00|               0.01|        0.01|         A|             50.409833|            -114.478967|Indian Reservation|          Resident|                    null|              Resident|            Cooking|        Unsafe Fire|                null|2006-04-14 15:17:00|           UNP|      PUB|2006-04-14 15:17:00|2006-04-14 15:19:00|2006-04-14 15:31:00|                      NA|                      NA|       Land Owner|  Surface|                  Flat|                      Cloudy|      O1a|           null|2006-04-14 17:25:00|       0.01|2006-04-14 17:25:00|       0.01|                 NA|         NA|2006-04-14 17:40:00|       0.01|\n",
            "|     CWF006|     null|     2006|         2006|2006-04-17 16:25:00|               0.02|        0.02|         A|              51.18765|            -114.874433|Indian Reservation|          Resident|                    null|              Resident|             Refuse|Unpredictable Event|                null|2006-04-17 14:52:00|           UNP|      PUB|2006-04-17 14:52:00|2006-04-17 14:53:00|2006-04-17 15:10:00|                      NA|                      NA|       Land Owner|  Surface|                  Flat|                      Cloudy|      O1a|           null|2006-04-17 16:25:00|       0.02|2006-04-17 16:25:00|       0.02|                 NA|         NA|2006-04-17 16:40:00|       0.02|\n",
            "|     CWF007|     null|     2006|         2006|2006-04-18 17:03:00|                0.2|         0.2|         B|             51.175633|            -114.897933|Indian Reservation|          Resident|                    null|              Resident|             Refuse|Unpredictable Event|                null|2006-04-18 17:00:00|           UNP|      LFS|2006-04-18 17:00:00|2006-04-18 17:01:00|2006-04-18 17:01:00|                      NA|                      NA|       Land Owner|  Surface|                  Flat|                       Clear|      O1b|           null|2006-04-18 17:10:00|        0.2|2006-04-18 17:10:00|        0.2|                 NA|         NA|2006-04-18 17:15:00|        0.2|\n",
            "|     CWF008|     null|     2006|         2006|2006-04-19 21:05:00|                0.3|         0.3|         B|              51.16685|            -114.899617|Indian Reservation|          Resident|                    null|              Resident|Traditional Burning|        Unsafe Fire|                null|2006-04-19 20:35:00|           LKT|       BP|2006-04-19 20:38:00|2006-04-19 20:40:00|2006-04-19 20:40:00|                      NA|                      NA|  Fire Department|  Surface|                  Flat|                       Clear|      O1b|           null|2006-04-19 21:05:00|        0.3|2006-04-19 21:05:00|        0.3|                 NA|         NA|2006-04-20 11:40:00|        0.3|\n",
            "|     PWF169|     null|     2015|         2015|2015-08-19 15:23:00|                0.1|         0.1|         A|             57.026467|            -117.819283|   Provincial Land|         Lightning|                    null|                  null|               null|               null|                null|2015-08-01 12:00:00|           AIR|       RW|2015-08-19 15:10:00|2015-08-19 15:10:00|2015-08-19 15:15:00|     2015-08-19 16:15:00|                     0.1|              HAC|  Surface|                  Flat|                      Cloudy|       C2|           null|2015-08-19 17:15:00|        0.1|2015-08-19 20:05:00|        0.1|                 NA|         NA|2015-08-24 13:00:00|        0.1|\n",
            "|     PWF170|     null|     2015|         2015|2015-08-19 16:34:00|                0.1|         0.1|         A|             56.119767|             -116.52305|   Provincial Land|        Government|              Provincial|                  null|            Restart|               null|                null|2015-07-27 12:00:00|           AIR|      HAC|2015-08-19 16:31:00|2015-08-19 16:31:00|2015-08-19 16:31:00|     2015-08-19 16:49:00|                     0.1|              HAC|  Surface|                  Flat|                      Cloudy|       M2|           null|2015-08-19 16:34:00|        0.1|2015-08-19 20:47:00|        0.1|                 NA|         NA|2015-08-22 15:57:00|        0.1|\n",
            "|     PWF171|     null|     2015|         2015|2015-08-19 18:09:00|                0.4|        0.13|         B|             56.831433|             -116.66895|   Provincial Land|         Lightning|                    null|                  null|               null|               null|                null|2015-07-31 12:00:00|           AIR|       MD|2015-08-19 17:58:00|2015-08-19 17:58:00|2015-08-19 17:58:00|     2015-08-19 18:54:00|                    0.13|             FTAC|   Ground|                  Flat|                 Rainshowers|       M2|           null|2015-08-19 19:40:00|       0.13|2015-08-20 11:35:00|       0.13|                 NA|         NA|2015-08-23 13:00:00|       0.13|\n",
            "|     PWF172|     null|     2015|         2015|2015-08-21 12:36:00|                0.1|         0.1|         A|             56.649267|             -119.89235|   Provincial Land|         Lightning|                    null|                  null|               null|               null|                null|2015-08-01 12:00:00|           UNP|      310|2015-08-21 11:43:00|2015-08-21 11:43:00|2015-08-21 11:51:00|     2015-08-21 13:24:00|                     0.1|              HAC|  Surface|                  Flat|                 Rainshowers|       C2|           null|2015-08-21 14:00:00|        0.1|2015-08-21 18:00:00|        0.1|                 NA|         NA|2015-08-21 19:24:00|        0.1|\n",
            "+-----------+---------+---------+-------------+-------------------+-------------------+------------+----------+----------------------+-----------------------+------------------+------------------+------------------------+----------------------+-------------------+-------------------+--------------------+-------------------+--------------+---------+-------------------+-------------------+-------------------+------------------------+------------------------+-----------------+---------+----------------------+----------------------------+---------+---------------+-------------------+-----------+-------------------+-----------+-------------------+-----------+-------------------+-----------+\n",
            "only showing top 20 rows\n",
            "\n"
          ]
        }
      ]
    },
    {
      "cell_type": "code",
      "metadata": {
        "id": "p7d1R9ogiW1C"
      },
      "source": [
        "# dataframename = []\n",
        "# dataframename.write.jdbc(url=jdbc_url, table='fire_df', mode=mode, properties=config)"
      ],
      "execution_count": null,
      "outputs": []
    },
    {
      "cell_type": "code",
      "metadata": {
        "colab": {
          "base_uri": "https://localhost:8080/"
        },
        "id": "EU3CRYztDuR0",
        "outputId": "7ccf1c50-2559-4374-f726-1bc2e4b303ff"
      },
      "source": [
        "# Create new dataframe for model with chosen features\n",
        "fire_df = df[['calendar_year','fire_start_date', 'fire_fighting_start_size', 'bh_fs_date', 'bh_hectares', 'weather_conditions_over_fire', 'true_cause']]  \n",
        "# The following features have been witheld 'fire_number','size_class', 'start_for_fire_date',,\n",
        "fire_df.show(10)"
      ],
      "execution_count": null,
      "outputs": [
        {
          "output_type": "stream",
          "name": "stdout",
          "text": [
            "+-------------+-------------------+------------------------+-------------------+-----------+----------------------------+------------+\n",
            "|calendar_year|    fire_start_date|fire_fighting_start_size|         bh_fs_date|bh_hectares|weather_conditions_over_fire|  true_cause|\n",
            "+-------------+-------------------+------------------------+-------------------+-----------+----------------------------+------------+\n",
            "|         2015|2015-07-29 18:00:00|                      NA|2015-07-29 20:38:00|       0.01|                       Clear|Vehicle Fire|\n",
            "|         2015|2015-07-29 15:00:00|                       1|2015-07-30 21:01:00|        0.4|                       Clear|        null|\n",
            "|         2015|2015-07-27 12:00:00|                     0.1|2015-07-31 13:08:00|        0.1|                      Cloudy|        null|\n",
            "|         2015|2015-07-11 21:04:00|                      NA|2015-07-31 23:15:00|        0.1|                      Cloudy|        null|\n",
            "|         2015|2015-08-03 13:00:00|                      NA|2015-08-03 15:45:00|       0.01|                       Clear| Unsafe Fire|\n",
            "|         2015|2015-08-16 12:00:00|                     0.5|2015-08-16 17:05:00|        0.5|                       Clear|        null|\n",
            "|         2015|2015-08-10 15:00:00|                     0.3|2015-08-18 09:45:00|        0.3|                      Cloudy|        null|\n",
            "|         2015|2015-08-01 12:00:00|                    0.01|2015-08-17 20:22:00|       0.01|                       Clear|        null|\n",
            "|         2006|2006-04-02 14:25:00|                      NA|2006-04-02 16:00:00|        0.2|                       Clear| Unsafe Fire|\n",
            "|         2006|2006-04-03 15:30:00|                      NA|2006-04-03 16:45:00|       0.01|                      Cloudy|        null|\n",
            "+-------------+-------------------+------------------------+-------------------+-----------+----------------------------+------------+\n",
            "only showing top 10 rows\n",
            "\n"
          ]
        }
      ]
    },
    {
      "cell_type": "code",
      "metadata": {
        "colab": {
          "base_uri": "https://localhost:8080/"
        },
        "id": "JP-W31ix3j2F",
        "outputId": "08a246bc-9315-439f-c118-7d6f015bc4dc"
      },
      "source": [
        "# Drop off NA  starting sizes and convert to data type double\n",
        "fire_df = fire_df[fire_df.fire_fighting_start_size != 'NA']\n",
        "fire_df = fire_df.withColumn('fire_fighting_start_size',fire_df['fire_fighting_start_size'].cast(\"double\"))\n",
        "fire_df.show()"
      ],
      "execution_count": null,
      "outputs": [
        {
          "output_type": "stream",
          "name": "stdout",
          "text": [
            "+-------------+-------------------+------------------------+-------------------+-----------+----------------------------+--------------+\n",
            "|calendar_year|    fire_start_date|fire_fighting_start_size|         bh_fs_date|bh_hectares|weather_conditions_over_fire|    true_cause|\n",
            "+-------------+-------------------+------------------------+-------------------+-----------+----------------------------+--------------+\n",
            "|         2015|2015-07-29 15:00:00|                     1.0|2015-07-30 21:01:00|        0.4|                       Clear|          null|\n",
            "|         2015|2015-07-27 12:00:00|                     0.1|2015-07-31 13:08:00|        0.1|                      Cloudy|          null|\n",
            "|         2015|2015-08-16 12:00:00|                     0.5|2015-08-16 17:05:00|        0.5|                       Clear|          null|\n",
            "|         2015|2015-08-10 15:00:00|                     0.3|2015-08-18 09:45:00|        0.3|                      Cloudy|          null|\n",
            "|         2015|2015-08-01 12:00:00|                    0.01|2015-08-17 20:22:00|       0.01|                       Clear|          null|\n",
            "|         2006|2006-04-08 19:00:00|                    0.01|2006-04-08 20:05:00|       0.01|                      Cloudy|Abandoned Fire|\n",
            "|         2015|2015-08-01 12:00:00|                     0.1|2015-08-19 17:15:00|        0.1|                      Cloudy|          null|\n",
            "|         2015|2015-07-27 12:00:00|                     0.1|2015-08-19 16:34:00|        0.1|                      Cloudy|          null|\n",
            "|         2015|2015-07-31 12:00:00|                    0.13|2015-08-19 19:40:00|       0.13|                 Rainshowers|          null|\n",
            "|         2015|2015-08-01 12:00:00|                     0.1|2015-08-21 14:00:00|        0.1|                 Rainshowers|          null|\n",
            "|         2015|2015-08-01 12:00:00|                     0.1|2015-08-22 16:14:00|        0.1|                       Clear|          null|\n",
            "|         2015|2015-08-01 12:00:00|                     0.1|2015-08-24 12:51:00|        0.1|                      Cloudy|          null|\n",
            "|         2015|2015-08-14 17:00:00|                     0.1|2015-08-26 17:00:00|        0.1|                       Clear|          null|\n",
            "|         2015|2015-08-27 18:00:00|                     0.1|2015-08-27 20:25:00|        0.1|                       Clear|   Line Impact|\n",
            "|         2015|2015-08-20 21:00:00|                     0.1|2015-08-28 15:30:00|        0.1|                       Clear|          null|\n",
            "|         2015|2015-08-29 15:45:00|                     0.1|2015-08-29 16:15:00|        0.1|                      Cloudy|          null|\n",
            "|         2015|2015-09-08 20:00:00|                    0.01|2015-09-12 09:07:00|       0.01|                 Rainshowers|   Unsafe Fire|\n",
            "|         2015|2015-09-26 15:45:00|                     0.2|2015-09-26 16:20:00|        0.2|                      Cloudy|          null|\n",
            "|         2015|2015-09-29 16:00:00|                     0.8|2015-09-29 19:45:00|        0.9|                       Clear|Friction Spark|\n",
            "|         2015|2015-10-13 13:00:00|                     0.1|2015-10-13 14:20:00|        0.1|                       Clear|   Line Impact|\n",
            "+-------------+-------------------+------------------------+-------------------+-----------+----------------------------+--------------+\n",
            "only showing top 20 rows\n",
            "\n"
          ]
        }
      ]
    },
    {
      "cell_type": "code",
      "metadata": {
        "colab": {
          "base_uri": "https://localhost:8080/"
        },
        "id": "CKmsJu8X8Uwu",
        "outputId": "d86484a6-6bd9-4e34-b2bc-57778183e466"
      },
      "source": [
        "# Replace bh_hectares with ratio of fire size between \"start\" and \"being held\". Ratio of fire size will be the final predictive variable\n",
        "fire_df = fire_df.withColumn(\"fire_growth\",col(\"bh_hectares\")/col(\"fire_fighting_start_size\")).drop(\"bh_hectares\")\n",
        "fire_df.show()"
      ],
      "execution_count": null,
      "outputs": [
        {
          "output_type": "stream",
          "name": "stdout",
          "text": [
            "+-------------+-------------------+------------------------+-------------------+----------------------------+--------------+-----------+\n",
            "|calendar_year|    fire_start_date|fire_fighting_start_size|         bh_fs_date|weather_conditions_over_fire|    true_cause|fire_growth|\n",
            "+-------------+-------------------+------------------------+-------------------+----------------------------+--------------+-----------+\n",
            "|         2015|2015-07-29 15:00:00|                     1.0|2015-07-30 21:01:00|                       Clear|          null|        0.4|\n",
            "|         2015|2015-07-27 12:00:00|                     0.1|2015-07-31 13:08:00|                      Cloudy|          null|        1.0|\n",
            "|         2015|2015-08-16 12:00:00|                     0.5|2015-08-16 17:05:00|                       Clear|          null|        1.0|\n",
            "|         2015|2015-08-10 15:00:00|                     0.3|2015-08-18 09:45:00|                      Cloudy|          null|        1.0|\n",
            "|         2015|2015-08-01 12:00:00|                    0.01|2015-08-17 20:22:00|                       Clear|          null|        1.0|\n",
            "|         2006|2006-04-08 19:00:00|                    0.01|2006-04-08 20:05:00|                      Cloudy|Abandoned Fire|        1.0|\n",
            "|         2015|2015-08-01 12:00:00|                     0.1|2015-08-19 17:15:00|                      Cloudy|          null|        1.0|\n",
            "|         2015|2015-07-27 12:00:00|                     0.1|2015-08-19 16:34:00|                      Cloudy|          null|        1.0|\n",
            "|         2015|2015-07-31 12:00:00|                    0.13|2015-08-19 19:40:00|                 Rainshowers|          null|        1.0|\n",
            "|         2015|2015-08-01 12:00:00|                     0.1|2015-08-21 14:00:00|                 Rainshowers|          null|        1.0|\n",
            "|         2015|2015-08-01 12:00:00|                     0.1|2015-08-22 16:14:00|                       Clear|          null|        1.0|\n",
            "|         2015|2015-08-01 12:00:00|                     0.1|2015-08-24 12:51:00|                      Cloudy|          null|        1.0|\n",
            "|         2015|2015-08-14 17:00:00|                     0.1|2015-08-26 17:00:00|                       Clear|          null|        1.0|\n",
            "|         2015|2015-08-27 18:00:00|                     0.1|2015-08-27 20:25:00|                       Clear|   Line Impact|        1.0|\n",
            "|         2015|2015-08-20 21:00:00|                     0.1|2015-08-28 15:30:00|                       Clear|          null|        1.0|\n",
            "|         2015|2015-08-29 15:45:00|                     0.1|2015-08-29 16:15:00|                      Cloudy|          null|        1.0|\n",
            "|         2015|2015-09-08 20:00:00|                    0.01|2015-09-12 09:07:00|                 Rainshowers|   Unsafe Fire|        1.0|\n",
            "|         2015|2015-09-26 15:45:00|                     0.2|2015-09-26 16:20:00|                      Cloudy|          null|        1.0|\n",
            "|         2015|2015-09-29 16:00:00|                     0.8|2015-09-29 19:45:00|                       Clear|Friction Spark|      1.125|\n",
            "|         2015|2015-10-13 13:00:00|                     0.1|2015-10-13 14:20:00|                       Clear|   Line Impact|        1.0|\n",
            "+-------------+-------------------+------------------------+-------------------+----------------------------+--------------+-----------+\n",
            "only showing top 20 rows\n",
            "\n"
          ]
        }
      ]
    },
    {
      "cell_type": "code",
      "metadata": {
        "colab": {
          "base_uri": "https://localhost:8080/"
        },
        "id": "y_lat2meuaSy",
        "outputId": "1bd56524-3094-40bf-e764-e03e6c52c82b"
      },
      "source": [
        "# Review data types\n",
        "fire_df.dtypes"
      ],
      "execution_count": null,
      "outputs": [
        {
          "output_type": "execute_result",
          "data": {
            "text/plain": [
              "[('calendar_year', 'int'),\n",
              " ('fire_start_date', 'string'),\n",
              " ('fire_fighting_start_size', 'double'),\n",
              " ('bh_fs_date', 'string'),\n",
              " ('weather_conditions_over_fire', 'string'),\n",
              " ('true_cause', 'string'),\n",
              " ('fire_growth', 'double')]"
            ]
          },
          "metadata": {},
          "execution_count": 56
        }
      ]
    },
    {
      "cell_type": "code",
      "metadata": {
        "colab": {
          "base_uri": "https://localhost:8080/"
        },
        "id": "632EbTDI5-JG",
        "outputId": "e557ce0a-30f2-45ed-8e7a-867736765cff"
      },
      "source": [
        "# Check Null Values in Columns\n",
        "#Dict_Null = {col:fire_df.filter(df[col].isNull()).count() for col in fire_df.columns}\n",
        "Dict_Null = {col:fire_df.filter(fire_df[col].isNull()).count() for col in fire_df.columns}\n",
        "Dict_Null"
      ],
      "execution_count": null,
      "outputs": [
        {
          "output_type": "execute_result",
          "data": {
            "text/plain": [
              "{'bh_fs_date': 0,\n",
              " 'calendar_year': 0,\n",
              " 'fire_fighting_start_size': 0,\n",
              " 'fire_growth': 0,\n",
              " 'fire_start_date': 0,\n",
              " 'true_cause': 8111,\n",
              " 'weather_conditions_over_fire': 2323}"
            ]
          },
          "metadata": {},
          "execution_count": 58
        }
      ]
    },
    {
      "cell_type": "code",
      "metadata": {
        "colab": {
          "base_uri": "https://localhost:8080/"
        },
        "id": "C2A3x4znR4u4",
        "outputId": "a2ac9cce-c7ed-42fb-d157-a3734667e74a"
      },
      "source": [
        "# Count rows of data \n",
        "fire_df.count()"
      ],
      "execution_count": null,
      "outputs": [
        {
          "output_type": "execute_result",
          "data": {
            "text/plain": [
              "14565"
            ]
          },
          "metadata": {},
          "execution_count": 59
        }
      ]
    },
    {
      "cell_type": "code",
      "metadata": {
        "colab": {
          "base_uri": "https://localhost:8080/"
        },
        "id": "3U6QQmHESKEe",
        "outputId": "eac3e2e0-2d2e-4783-9126-44f7a8f68e76"
      },
      "source": [
        "# Replace Null Values \n",
        "fire_df = fire_df.na.fill(\"unknown\")\n",
        "fire_df.show()"
      ],
      "execution_count": null,
      "outputs": [
        {
          "output_type": "stream",
          "name": "stdout",
          "text": [
            "+-------------+-------------------+------------------------+-------------------+----------------------------+--------------+-----------+\n",
            "|calendar_year|    fire_start_date|fire_fighting_start_size|         bh_fs_date|weather_conditions_over_fire|    true_cause|fire_growth|\n",
            "+-------------+-------------------+------------------------+-------------------+----------------------------+--------------+-----------+\n",
            "|         2015|2015-07-29 15:00:00|                     1.0|2015-07-30 21:01:00|                       Clear|       unknown|        0.4|\n",
            "|         2015|2015-07-27 12:00:00|                     0.1|2015-07-31 13:08:00|                      Cloudy|       unknown|        1.0|\n",
            "|         2015|2015-08-16 12:00:00|                     0.5|2015-08-16 17:05:00|                       Clear|       unknown|        1.0|\n",
            "|         2015|2015-08-10 15:00:00|                     0.3|2015-08-18 09:45:00|                      Cloudy|       unknown|        1.0|\n",
            "|         2015|2015-08-01 12:00:00|                    0.01|2015-08-17 20:22:00|                       Clear|       unknown|        1.0|\n",
            "|         2006|2006-04-08 19:00:00|                    0.01|2006-04-08 20:05:00|                      Cloudy|Abandoned Fire|        1.0|\n",
            "|         2015|2015-08-01 12:00:00|                     0.1|2015-08-19 17:15:00|                      Cloudy|       unknown|        1.0|\n",
            "|         2015|2015-07-27 12:00:00|                     0.1|2015-08-19 16:34:00|                      Cloudy|       unknown|        1.0|\n",
            "|         2015|2015-07-31 12:00:00|                    0.13|2015-08-19 19:40:00|                 Rainshowers|       unknown|        1.0|\n",
            "|         2015|2015-08-01 12:00:00|                     0.1|2015-08-21 14:00:00|                 Rainshowers|       unknown|        1.0|\n",
            "|         2015|2015-08-01 12:00:00|                     0.1|2015-08-22 16:14:00|                       Clear|       unknown|        1.0|\n",
            "|         2015|2015-08-01 12:00:00|                     0.1|2015-08-24 12:51:00|                      Cloudy|       unknown|        1.0|\n",
            "|         2015|2015-08-14 17:00:00|                     0.1|2015-08-26 17:00:00|                       Clear|       unknown|        1.0|\n",
            "|         2015|2015-08-27 18:00:00|                     0.1|2015-08-27 20:25:00|                       Clear|   Line Impact|        1.0|\n",
            "|         2015|2015-08-20 21:00:00|                     0.1|2015-08-28 15:30:00|                       Clear|       unknown|        1.0|\n",
            "|         2015|2015-08-29 15:45:00|                     0.1|2015-08-29 16:15:00|                      Cloudy|       unknown|        1.0|\n",
            "|         2015|2015-09-08 20:00:00|                    0.01|2015-09-12 09:07:00|                 Rainshowers|   Unsafe Fire|        1.0|\n",
            "|         2015|2015-09-26 15:45:00|                     0.2|2015-09-26 16:20:00|                      Cloudy|       unknown|        1.0|\n",
            "|         2015|2015-09-29 16:00:00|                     0.8|2015-09-29 19:45:00|                       Clear|Friction Spark|      1.125|\n",
            "|         2015|2015-10-13 13:00:00|                     0.1|2015-10-13 14:20:00|                       Clear|   Line Impact|        1.0|\n",
            "+-------------+-------------------+------------------------+-------------------+----------------------------+--------------+-----------+\n",
            "only showing top 20 rows\n",
            "\n"
          ]
        }
      ]
    },
    {
      "cell_type": "markdown",
      "metadata": {
        "id": "Uaih_dg38TSt"
      },
      "source": [
        "Feature Engineering \n",
        "1. Removing numbers to identify ignition area \n",
        "2. Creating the month of when the fire was discovered\n",
        "3. Converting strings to dates for start fire fighting date & fire held date (bh_fs_date)\n",
        "4. Calculating the number of days the fire was held before being under control\n",
        "5. Review and clean up categorical features in order to use classification machine models \n",
        "- Convert weather conditions - clean up \n",
        "- Convert true_cause \n",
        "- responsible_group_desc \n",
        "- fire_fighting_start_size \n",
        "- bh_hectares "
      ]
    },
    {
      "cell_type": "code",
      "metadata": {
        "colab": {
          "base_uri": "https://localhost:8080/"
        },
        "id": "j08umKbxazvd",
        "outputId": "1a3321ce-1ba8-40f7-c8e5-c00a35d0bf79"
      },
      "source": [
        "fire_df.show(10)"
      ],
      "execution_count": null,
      "outputs": [
        {
          "output_type": "stream",
          "name": "stdout",
          "text": [
            "+-------------+-------------------+------------------------+-------------------+----------------------------+--------------+-----------+\n",
            "|calendar_year|    fire_start_date|fire_fighting_start_size|         bh_fs_date|weather_conditions_over_fire|    true_cause|fire_growth|\n",
            "+-------------+-------------------+------------------------+-------------------+----------------------------+--------------+-----------+\n",
            "|         2015|2015-07-29 15:00:00|                     1.0|2015-07-30 21:01:00|                       Clear|       unknown|        0.4|\n",
            "|         2015|2015-07-27 12:00:00|                     0.1|2015-07-31 13:08:00|                      Cloudy|       unknown|        1.0|\n",
            "|         2015|2015-08-16 12:00:00|                     0.5|2015-08-16 17:05:00|                       Clear|       unknown|        1.0|\n",
            "|         2015|2015-08-10 15:00:00|                     0.3|2015-08-18 09:45:00|                      Cloudy|       unknown|        1.0|\n",
            "|         2015|2015-08-01 12:00:00|                    0.01|2015-08-17 20:22:00|                       Clear|       unknown|        1.0|\n",
            "|         2006|2006-04-08 19:00:00|                    0.01|2006-04-08 20:05:00|                      Cloudy|Abandoned Fire|        1.0|\n",
            "|         2015|2015-08-01 12:00:00|                     0.1|2015-08-19 17:15:00|                      Cloudy|       unknown|        1.0|\n",
            "|         2015|2015-07-27 12:00:00|                     0.1|2015-08-19 16:34:00|                      Cloudy|       unknown|        1.0|\n",
            "|         2015|2015-07-31 12:00:00|                    0.13|2015-08-19 19:40:00|                 Rainshowers|       unknown|        1.0|\n",
            "|         2015|2015-08-01 12:00:00|                     0.1|2015-08-21 14:00:00|                 Rainshowers|       unknown|        1.0|\n",
            "+-------------+-------------------+------------------------+-------------------+----------------------------+--------------+-----------+\n",
            "only showing top 10 rows\n",
            "\n"
          ]
        }
      ]
    },
    {
      "cell_type": "code",
      "metadata": {
        "id": "urFfWdF81Eo9"
      },
      "source": [
        "# 1. Removing last 3 digits from fire_number to to identify location area of fire\n",
        "\n",
        "#fire_df = fire_df.withColumn(\"fire_number\",expr(\"substring(fire_number, 1, length(fire_number)-3)\"))\n",
        "#fire_df.show()\n"
      ],
      "execution_count": null,
      "outputs": []
    },
    {
      "cell_type": "code",
      "metadata": {
        "colab": {
          "base_uri": "https://localhost:8080/"
        },
        "id": "PENAy4y286JM",
        "outputId": "36795889-1cde-4383-d44a-fa590a64bce2"
      },
      "source": [
        "# 2.Convert discovered_date to look at just months (find trends in months/ seasons)\n",
        "from pyspark.sql.functions import to_timestamp, date_format\n",
        "fire_df = fire_df.withColumn('fire_start_date', to_timestamp (col('fire_start_date'))).withColumn('Month', date_format(col('fire_start_date'), 'M'))\n",
        "fire_df.show()"
      ],
      "execution_count": null,
      "outputs": [
        {
          "output_type": "stream",
          "name": "stdout",
          "text": [
            "+-------------+-------------------+------------------------+-------------------+----------------------------+--------------+-----------+-----+\n",
            "|calendar_year|    fire_start_date|fire_fighting_start_size|         bh_fs_date|weather_conditions_over_fire|    true_cause|fire_growth|Month|\n",
            "+-------------+-------------------+------------------------+-------------------+----------------------------+--------------+-----------+-----+\n",
            "|         2015|2015-07-29 15:00:00|                     1.0|2015-07-30 21:01:00|                       Clear|       unknown|        0.4|    7|\n",
            "|         2015|2015-07-27 12:00:00|                     0.1|2015-07-31 13:08:00|                      Cloudy|       unknown|        1.0|    7|\n",
            "|         2015|2015-08-16 12:00:00|                     0.5|2015-08-16 17:05:00|                       Clear|       unknown|        1.0|    8|\n",
            "|         2015|2015-08-10 15:00:00|                     0.3|2015-08-18 09:45:00|                      Cloudy|       unknown|        1.0|    8|\n",
            "|         2015|2015-08-01 12:00:00|                    0.01|2015-08-17 20:22:00|                       Clear|       unknown|        1.0|    8|\n",
            "|         2006|2006-04-08 19:00:00|                    0.01|2006-04-08 20:05:00|                      Cloudy|Abandoned Fire|        1.0|    4|\n",
            "|         2015|2015-08-01 12:00:00|                     0.1|2015-08-19 17:15:00|                      Cloudy|       unknown|        1.0|    8|\n",
            "|         2015|2015-07-27 12:00:00|                     0.1|2015-08-19 16:34:00|                      Cloudy|       unknown|        1.0|    7|\n",
            "|         2015|2015-07-31 12:00:00|                    0.13|2015-08-19 19:40:00|                 Rainshowers|       unknown|        1.0|    7|\n",
            "|         2015|2015-08-01 12:00:00|                     0.1|2015-08-21 14:00:00|                 Rainshowers|       unknown|        1.0|    8|\n",
            "|         2015|2015-08-01 12:00:00|                     0.1|2015-08-22 16:14:00|                       Clear|       unknown|        1.0|    8|\n",
            "|         2015|2015-08-01 12:00:00|                     0.1|2015-08-24 12:51:00|                      Cloudy|       unknown|        1.0|    8|\n",
            "|         2015|2015-08-14 17:00:00|                     0.1|2015-08-26 17:00:00|                       Clear|       unknown|        1.0|    8|\n",
            "|         2015|2015-08-27 18:00:00|                     0.1|2015-08-27 20:25:00|                       Clear|   Line Impact|        1.0|    8|\n",
            "|         2015|2015-08-20 21:00:00|                     0.1|2015-08-28 15:30:00|                       Clear|       unknown|        1.0|    8|\n",
            "|         2015|2015-08-29 15:45:00|                     0.1|2015-08-29 16:15:00|                      Cloudy|       unknown|        1.0|    8|\n",
            "|         2015|2015-09-08 20:00:00|                    0.01|2015-09-12 09:07:00|                 Rainshowers|   Unsafe Fire|        1.0|    9|\n",
            "|         2015|2015-09-26 15:45:00|                     0.2|2015-09-26 16:20:00|                      Cloudy|       unknown|        1.0|    9|\n",
            "|         2015|2015-09-29 16:00:00|                     0.8|2015-09-29 19:45:00|                       Clear|Friction Spark|      1.125|    9|\n",
            "|         2015|2015-10-13 13:00:00|                     0.1|2015-10-13 14:20:00|                       Clear|   Line Impact|        1.0|   10|\n",
            "+-------------+-------------------+------------------------+-------------------+----------------------------+--------------+-----------+-----+\n",
            "only showing top 20 rows\n",
            "\n"
          ]
        }
      ]
    },
    {
      "cell_type": "code",
      "metadata": {
        "id": "UjUpKISE5EGu"
      },
      "source": [
        "# 3. Convert start_for_fire_date & bh_fs_date to timestamp to find length of fire held time\n",
        "#fire_df = fire_df.withColumn('start_for_fire_date', col('start_for_fire_date').cast('timestamp'))\n",
        "fire_df = fire_df.withColumn('fire_start_date', col('fire_start_date').cast('timestamp'))"
      ],
      "execution_count": null,
      "outputs": []
    },
    {
      "cell_type": "code",
      "metadata": {
        "id": "t_RvfZwX53ys",
        "colab": {
          "base_uri": "https://localhost:8080/"
        },
        "outputId": "d868b0f7-5866-4eeb-f257-3fa2cc81ce31"
      },
      "source": [
        "# Convert start_for_fire_date & bh_fs_date to timestamp to find length of fire held time\n",
        "fire_df = fire_df.withColumn('bh_fs_date', col('bh_fs_date').cast('timestamp'))\n",
        "fire_df.show()"
      ],
      "execution_count": null,
      "outputs": [
        {
          "output_type": "stream",
          "name": "stdout",
          "text": [
            "+-------------+-------------------+------------------------+-------------------+----------------------------+--------------+-----------+-----+\n",
            "|calendar_year|    fire_start_date|fire_fighting_start_size|         bh_fs_date|weather_conditions_over_fire|    true_cause|fire_growth|Month|\n",
            "+-------------+-------------------+------------------------+-------------------+----------------------------+--------------+-----------+-----+\n",
            "|         2015|2015-07-29 15:00:00|                     1.0|2015-07-30 21:01:00|                       Clear|       unknown|        0.4|    7|\n",
            "|         2015|2015-07-27 12:00:00|                     0.1|2015-07-31 13:08:00|                      Cloudy|       unknown|        1.0|    7|\n",
            "|         2015|2015-08-16 12:00:00|                     0.5|2015-08-16 17:05:00|                       Clear|       unknown|        1.0|    8|\n",
            "|         2015|2015-08-10 15:00:00|                     0.3|2015-08-18 09:45:00|                      Cloudy|       unknown|        1.0|    8|\n",
            "|         2015|2015-08-01 12:00:00|                    0.01|2015-08-17 20:22:00|                       Clear|       unknown|        1.0|    8|\n",
            "|         2006|2006-04-08 19:00:00|                    0.01|2006-04-08 20:05:00|                      Cloudy|Abandoned Fire|        1.0|    4|\n",
            "|         2015|2015-08-01 12:00:00|                     0.1|2015-08-19 17:15:00|                      Cloudy|       unknown|        1.0|    8|\n",
            "|         2015|2015-07-27 12:00:00|                     0.1|2015-08-19 16:34:00|                      Cloudy|       unknown|        1.0|    7|\n",
            "|         2015|2015-07-31 12:00:00|                    0.13|2015-08-19 19:40:00|                 Rainshowers|       unknown|        1.0|    7|\n",
            "|         2015|2015-08-01 12:00:00|                     0.1|2015-08-21 14:00:00|                 Rainshowers|       unknown|        1.0|    8|\n",
            "|         2015|2015-08-01 12:00:00|                     0.1|2015-08-22 16:14:00|                       Clear|       unknown|        1.0|    8|\n",
            "|         2015|2015-08-01 12:00:00|                     0.1|2015-08-24 12:51:00|                      Cloudy|       unknown|        1.0|    8|\n",
            "|         2015|2015-08-14 17:00:00|                     0.1|2015-08-26 17:00:00|                       Clear|       unknown|        1.0|    8|\n",
            "|         2015|2015-08-27 18:00:00|                     0.1|2015-08-27 20:25:00|                       Clear|   Line Impact|        1.0|    8|\n",
            "|         2015|2015-08-20 21:00:00|                     0.1|2015-08-28 15:30:00|                       Clear|       unknown|        1.0|    8|\n",
            "|         2015|2015-08-29 15:45:00|                     0.1|2015-08-29 16:15:00|                      Cloudy|       unknown|        1.0|    8|\n",
            "|         2015|2015-09-08 20:00:00|                    0.01|2015-09-12 09:07:00|                 Rainshowers|   Unsafe Fire|        1.0|    9|\n",
            "|         2015|2015-09-26 15:45:00|                     0.2|2015-09-26 16:20:00|                      Cloudy|       unknown|        1.0|    9|\n",
            "|         2015|2015-09-29 16:00:00|                     0.8|2015-09-29 19:45:00|                       Clear|Friction Spark|      1.125|    9|\n",
            "|         2015|2015-10-13 13:00:00|                     0.1|2015-10-13 14:20:00|                       Clear|   Line Impact|        1.0|   10|\n",
            "+-------------+-------------------+------------------------+-------------------+----------------------------+--------------+-----------+-----+\n",
            "only showing top 20 rows\n",
            "\n"
          ]
        }
      ]
    },
    {
      "cell_type": "code",
      "metadata": {
        "colab": {
          "base_uri": "https://localhost:8080/"
        },
        "id": "CI62Bs9e6FBd",
        "outputId": "13bea26b-42bc-4ce8-f76b-f53afbc4ce10"
      },
      "source": [
        "# Check dates have been converted to timestamps\n",
        "fire_df.dtypes"
      ],
      "execution_count": null,
      "outputs": [
        {
          "output_type": "execute_result",
          "data": {
            "text/plain": [
              "[('calendar_year', 'int'),\n",
              " ('fire_start_date', 'timestamp'),\n",
              " ('fire_fighting_start_size', 'double'),\n",
              " ('bh_fs_date', 'timestamp'),\n",
              " ('weather_conditions_over_fire', 'string'),\n",
              " ('true_cause', 'string'),\n",
              " ('fire_growth', 'double'),\n",
              " ('Month', 'string')]"
            ]
          },
          "metadata": {},
          "execution_count": 67
        }
      ]
    },
    {
      "cell_type": "code",
      "metadata": {
        "id": "HEbY_qfc3Sbx",
        "colab": {
          "base_uri": "https://localhost:8080/"
        },
        "outputId": "024d6081-aca3-4763-afdc-f6585ba0d0ff"
      },
      "source": [
        "# Find the length of fire held \n",
        "fire_df = fire_df.withColumn(\"bh_fs_date\",to_timestamp(col(\"bh_fs_date\"),\"HH:mm:ss.SSS\")) \\\n",
        "   .withColumn(\"fire_start_date\",to_timestamp(col(\"fire_start_date\"),\"HH:mm:ss.SSS\")) \\\n",
        "   .withColumn(\"DiffInSeconds\", col(\"bh_fs_date\").cast(\"long\") - col(\"fire_start_date\").cast(\"long\")) \\\n",
        "   .withColumn(\"DiffInMinutes\",(col(\"DiffInSeconds\")/60)) \\\n",
        "   .withColumn(\"DiffInHours\",(col(\"DiffInSeconds\")/3600)) \n",
        "fire_df.show(truncate=False)"
      ],
      "execution_count": null,
      "outputs": [
        {
          "output_type": "stream",
          "name": "stdout",
          "text": [
            "+-------------+-------------------+------------------------+-------------------+----------------------------+--------------+-----------+-----+-------------+-------------+------------------+\n",
            "|calendar_year|fire_start_date    |fire_fighting_start_size|bh_fs_date         |weather_conditions_over_fire|true_cause    |fire_growth|Month|DiffInSeconds|DiffInMinutes|DiffInHours       |\n",
            "+-------------+-------------------+------------------------+-------------------+----------------------------+--------------+-----------+-----+-------------+-------------+------------------+\n",
            "|2015         |2015-07-29 15:00:00|1.0                     |2015-07-30 21:01:00|Clear                       |unknown       |0.4        |7    |108060       |1801.0       |30.016666666666666|\n",
            "|2015         |2015-07-27 12:00:00|0.1                     |2015-07-31 13:08:00|Cloudy                      |unknown       |1.0        |7    |349680       |5828.0       |97.13333333333334 |\n",
            "|2015         |2015-08-16 12:00:00|0.5                     |2015-08-16 17:05:00|Clear                       |unknown       |1.0        |8    |18300        |305.0        |5.083333333333333 |\n",
            "|2015         |2015-08-10 15:00:00|0.3                     |2015-08-18 09:45:00|Cloudy                      |unknown       |1.0        |8    |672300       |11205.0      |186.75            |\n",
            "|2015         |2015-08-01 12:00:00|0.01                    |2015-08-17 20:22:00|Clear                       |unknown       |1.0        |8    |1412520      |23542.0      |392.3666666666667 |\n",
            "|2006         |2006-04-08 19:00:00|0.01                    |2006-04-08 20:05:00|Cloudy                      |Abandoned Fire|1.0        |4    |3900         |65.0         |1.0833333333333333|\n",
            "|2015         |2015-08-01 12:00:00|0.1                     |2015-08-19 17:15:00|Cloudy                      |unknown       |1.0        |8    |1574100      |26235.0      |437.25            |\n",
            "|2015         |2015-07-27 12:00:00|0.1                     |2015-08-19 16:34:00|Cloudy                      |unknown       |1.0        |7    |2003640      |33394.0      |556.5666666666667 |\n",
            "|2015         |2015-07-31 12:00:00|0.13                    |2015-08-19 19:40:00|Rainshowers                 |unknown       |1.0        |7    |1669200      |27820.0      |463.6666666666667 |\n",
            "|2015         |2015-08-01 12:00:00|0.1                     |2015-08-21 14:00:00|Rainshowers                 |unknown       |1.0        |8    |1735200      |28920.0      |482.0             |\n",
            "|2015         |2015-08-01 12:00:00|0.1                     |2015-08-22 16:14:00|Clear                       |unknown       |1.0        |8    |1829640      |30494.0      |508.23333333333335|\n",
            "|2015         |2015-08-01 12:00:00|0.1                     |2015-08-24 12:51:00|Cloudy                      |unknown       |1.0        |8    |1990260      |33171.0      |552.85            |\n",
            "|2015         |2015-08-14 17:00:00|0.1                     |2015-08-26 17:00:00|Clear                       |unknown       |1.0        |8    |1036800      |17280.0      |288.0             |\n",
            "|2015         |2015-08-27 18:00:00|0.1                     |2015-08-27 20:25:00|Clear                       |Line Impact   |1.0        |8    |8700         |145.0        |2.4166666666666665|\n",
            "|2015         |2015-08-20 21:00:00|0.1                     |2015-08-28 15:30:00|Clear                       |unknown       |1.0        |8    |671400       |11190.0      |186.5             |\n",
            "|2015         |2015-08-29 15:45:00|0.1                     |2015-08-29 16:15:00|Cloudy                      |unknown       |1.0        |8    |1800         |30.0         |0.5               |\n",
            "|2015         |2015-09-08 20:00:00|0.01                    |2015-09-12 09:07:00|Rainshowers                 |Unsafe Fire   |1.0        |9    |306420       |5107.0       |85.11666666666666 |\n",
            "|2015         |2015-09-26 15:45:00|0.2                     |2015-09-26 16:20:00|Cloudy                      |unknown       |1.0        |9    |2100         |35.0         |0.5833333333333334|\n",
            "|2015         |2015-09-29 16:00:00|0.8                     |2015-09-29 19:45:00|Clear                       |Friction Spark|1.125      |9    |13500        |225.0        |3.75              |\n",
            "|2015         |2015-10-13 13:00:00|0.1                     |2015-10-13 14:20:00|Clear                       |Line Impact   |1.0        |10   |4800         |80.0         |1.3333333333333333|\n",
            "+-------------+-------------------+------------------------+-------------------+----------------------------+--------------+-----------+-----+-------------+-------------+------------------+\n",
            "only showing top 20 rows\n",
            "\n"
          ]
        }
      ]
    },
    {
      "cell_type": "code",
      "metadata": {
        "colab": {
          "base_uri": "https://localhost:8080/"
        },
        "id": "wYRQbsfucr2o",
        "outputId": "9cb61f62-60db-4eaf-ded5-cc845bf517cc"
      },
      "source": [
        "final_df = fire_df.drop(\"weather_conditions_over_fire\").drop(\"true_cause\").drop(\"Month\").drop(\"DiffInSeconds\").drop(\"DiffInMinutes\")\\\n",
        ".drop(\"fire_start_date\").drop(\"bh_fs_date\")\n",
        "final_df.show(10)"
      ],
      "execution_count": null,
      "outputs": [
        {
          "output_type": "stream",
          "name": "stdout",
          "text": [
            "+-------------+------------------------+-----------+------------------+\n",
            "|calendar_year|fire_fighting_start_size|fire_growth|       DiffInHours|\n",
            "+-------------+------------------------+-----------+------------------+\n",
            "|         2015|                     1.0|        0.4|30.016666666666666|\n",
            "|         2015|                     0.1|        1.0| 97.13333333333334|\n",
            "|         2015|                     0.5|        1.0| 5.083333333333333|\n",
            "|         2015|                     0.3|        1.0|            186.75|\n",
            "|         2015|                    0.01|        1.0| 392.3666666666667|\n",
            "|         2006|                    0.01|        1.0|1.0833333333333333|\n",
            "|         2015|                     0.1|        1.0|            437.25|\n",
            "|         2015|                     0.1|        1.0| 556.5666666666667|\n",
            "|         2015|                    0.13|        1.0| 463.6666666666667|\n",
            "|         2015|                     0.1|        1.0|             482.0|\n",
            "+-------------+------------------------+-----------+------------------+\n",
            "only showing top 10 rows\n",
            "\n"
          ]
        }
      ]
    },
    {
      "cell_type": "code",
      "metadata": {
        "colab": {
          "base_uri": "https://localhost:8080/"
        },
        "id": "gGUBISrGCYdi",
        "outputId": "7ca7b107-31bc-4bf9-e211-b90de2aad6fd"
      },
      "source": [
        "# dropping all infinity and NaN values before hitting the database\n",
        "final_df = final_df.replace([np.inf, -np.inf], np.nan)\n",
        "final_df = final_df[final_df.fire_growth != np.nan]\n",
        "final_df = final_df[final_df.DiffInHours != np.nan]\n",
        "final_df = final_df[final_df.fire_fighting_start_size != np.nan]\n",
        "final_df.show()"
      ],
      "execution_count": null,
      "outputs": [
        {
          "output_type": "stream",
          "name": "stdout",
          "text": [
            "+-------------+------------------------+-----------+------------------+\n",
            "|calendar_year|fire_fighting_start_size|fire_growth|       DiffInHours|\n",
            "+-------------+------------------------+-----------+------------------+\n",
            "|         2015|                     1.0|        0.4|30.016666666666666|\n",
            "|         2015|                     0.1|        1.0| 97.13333333333334|\n",
            "|         2015|                     0.5|        1.0| 5.083333333333333|\n",
            "|         2015|                     0.3|        1.0|            186.75|\n",
            "|         2015|                    0.01|        1.0| 392.3666666666667|\n",
            "|         2006|                    0.01|        1.0|1.0833333333333333|\n",
            "|         2015|                     0.1|        1.0|            437.25|\n",
            "|         2015|                     0.1|        1.0| 556.5666666666667|\n",
            "|         2015|                    0.13|        1.0| 463.6666666666667|\n",
            "|         2015|                     0.1|        1.0|             482.0|\n",
            "|         2015|                     0.1|        1.0|508.23333333333335|\n",
            "|         2015|                     0.1|        1.0|            552.85|\n",
            "|         2015|                     0.1|        1.0|             288.0|\n",
            "|         2015|                     0.1|        1.0|2.4166666666666665|\n",
            "|         2015|                     0.1|        1.0|             186.5|\n",
            "|         2015|                     0.1|        1.0|               0.5|\n",
            "|         2015|                    0.01|        1.0| 85.11666666666666|\n",
            "|         2015|                     0.2|        1.0|0.5833333333333334|\n",
            "|         2015|                     0.8|      1.125|              3.75|\n",
            "|         2015|                     0.1|        1.0|1.3333333333333333|\n",
            "+-------------+------------------------+-----------+------------------+\n",
            "only showing top 20 rows\n",
            "\n"
          ]
        }
      ]
    },
    {
      "cell_type": "code",
      "metadata": {
        "id": "G68Ji1nqWx8f"
      },
      "source": [
        "# Decide on features and label: \n",
        "#\"user-input\" for how many days before a fire is predicted, we estimate the size before and the fire size is being held i.e. predicting change in starting fire size and discovered size by the number of days \n",
        "\n",
        "# Split our preprocessed data into our features and target arrays\n",
        "# Output labels \n",
        "y = final_df.select(\"fire_growth\").toPandas()\n",
        "\n",
        "# Features data \n",
        "X = final_df.drop(\"fire_growth\").toPandas()\n",
        "\n",
        "# Split the preprocessed data into a training & test dataset\n",
        "from sklearn.model_selection import train_test_split\n",
        "X_train, X_test, y_train, y_test = train_test_split(X, y, random_state=78)"
      ],
      "execution_count": null,
      "outputs": []
    },
    {
      "cell_type": "code",
      "metadata": {
        "id": "tdktRn91Wx8f",
        "colab": {
          "base_uri": "https://localhost:8080/"
        },
        "outputId": "e983f9d1-49a6-48f3-f255-7fcb6f0cddb1"
      },
      "source": [
        "# The shape of X is 39688 samples, with a single feature (column)\n",
        "X.shape"
      ],
      "execution_count": null,
      "outputs": [
        {
          "output_type": "execute_result",
          "data": {
            "text/plain": [
              "(14565, 3)"
            ]
          },
          "metadata": {},
          "execution_count": 81
        }
      ]
    },
    {
      "cell_type": "code",
      "metadata": {
        "id": "v4pIGZGPWx8g",
        "colab": {
          "base_uri": "https://localhost:8080/"
        },
        "outputId": "decef67c-c1ea-4191-9197-28ed6753586d"
      },
      "source": [
        "# Check y shape samples\n",
        "y.shape"
      ],
      "execution_count": null,
      "outputs": [
        {
          "output_type": "execute_result",
          "data": {
            "text/plain": [
              "(14565, 1)"
            ]
          },
          "metadata": {},
          "execution_count": 82
        }
      ]
    },
    {
      "cell_type": "code",
      "metadata": {
        "id": "0JAnTfXjWx8g"
      },
      "source": [
        "# Define the linear regression model\n",
        "from sklearn.linear_model import LinearRegression\n",
        "model = LinearRegression()\n"
      ],
      "execution_count": null,
      "outputs": []
    },
    {
      "cell_type": "code",
      "metadata": {
        "id": "SgO3OiG4Wx8h"
      },
      "source": [
        "# Create a StandardScaler instance\n",
        "from sklearn.preprocessing import StandardScaler\n",
        "scaler = StandardScaler()\n",
        "\n",
        "# Fit the StandardScaler\n",
        "X_scaler = scaler.fit(X_train)\n",
        "\n",
        "# Scale the data \n",
        "X_trained_scaled = X_scaler.transform(X_train)\n",
        "X_test_scaled = X_scaler.transform(X_test)"
      ],
      "execution_count": null,
      "outputs": []
    },
    {
      "cell_type": "code",
      "metadata": {
        "id": "HYE9VLkEWx8h",
        "colab": {
          "base_uri": "https://localhost:8080/"
        },
        "outputId": "9d56f92e-2bdc-4579-b15b-58cb33bb3471"
      },
      "source": [
        "# Train the model\n",
        "model.fit(X_train, y_train)\n"
      ],
      "execution_count": null,
      "outputs": [
        {
          "output_type": "execute_result",
          "data": {
            "text/plain": [
              "LinearRegression(copy_X=True, fit_intercept=True, n_jobs=None, normalize=False)"
            ]
          },
          "metadata": {},
          "execution_count": 109
        }
      ]
    },
    {
      "cell_type": "code",
      "metadata": {
        "id": "ae-lZakPWx8h",
        "colab": {
          "base_uri": "https://localhost:8080/"
        },
        "outputId": "15b06ca9-8b86-42bd-b0eb-48c8a59f85e7"
      },
      "source": [
        "# Evaluate the model\n",
        "y_pred = model.predict(X_test_scaled)\n",
        "y_pred"
      ],
      "execution_count": null,
      "outputs": [
        {
          "output_type": "execute_result",
          "data": {
            "text/plain": [
              "array([[-12644.97762812],\n",
              "       [-12651.73435156],\n",
              "       [-12650.04517004],\n",
              "       ...,\n",
              "       [-12636.53172458],\n",
              "       [-12636.53172486],\n",
              "       [-12650.04517081]])"
            ]
          },
          "metadata": {},
          "execution_count": 110
        }
      ]
    },
    {
      "cell_type": "code",
      "metadata": {
        "id": "8UqzClljWx8i",
        "colab": {
          "base_uri": "https://localhost:8080/"
        },
        "outputId": "5a2401ff-b009-4c7a-e222-f0547cc71a49"
      },
      "source": [
        "# Retrieving the model intercept and slope \n",
        "print(model.coef_)\n",
        "print(model.intercept_)"
      ],
      "execution_count": null,
      "outputs": [
        {
          "output_type": "stream",
          "name": "stdout",
          "text": [
            "[[ 6.31660017e+00 -2.88193516e-02  1.66828585e-04]]\n",
            "[-12641.93711806]\n"
          ]
        }
      ]
    },
    {
      "cell_type": "code",
      "metadata": {
        "id": "Fl8jmvq4Wx8i",
        "colab": {
          "base_uri": "https://localhost:8080/"
        },
        "outputId": "5a340aab-123d-48f5-b4ad-9c8844bc91f2"
      },
      "source": [
        "# Calculating the R squared value \n",
        "from sklearn.metrics import r2_score\n",
        "r2_score(y_test, y_pred)"
      ],
      "execution_count": null,
      "outputs": [
        {
          "output_type": "execute_result",
          "data": {
            "text/plain": [
              "-6.500753795376683"
            ]
          },
          "metadata": {},
          "execution_count": 112
        }
      ]
    },
    {
      "cell_type": "code",
      "metadata": {
        "id": "nzWUk8JhWx8i",
        "colab": {
          "base_uri": "https://localhost:8080/",
          "height": 340
        },
        "outputId": "3cdde225-e9b4-4f68-bd5d-518c0a04b1b1"
      },
      "source": [
        "# Evaluation model in dataframe \n",
        "final_df = pd.DataFrame({'Actual': y_test, 'Predicted': y_pred})\n",
        "final_df"
      ],
      "execution_count": null,
      "outputs": [
        {
          "output_type": "error",
          "ename": "ValueError",
          "evalue": "ignored",
          "traceback": [
            "\u001b[0;31m---------------------------------------------------------------------------\u001b[0m",
            "\u001b[0;31mValueError\u001b[0m                                Traceback (most recent call last)",
            "\u001b[0;32m<ipython-input-113-7c392afc277f>\u001b[0m in \u001b[0;36m<module>\u001b[0;34m()\u001b[0m\n\u001b[1;32m      1\u001b[0m \u001b[0;31m# Evaluation model in dataframe\u001b[0m\u001b[0;34m\u001b[0m\u001b[0;34m\u001b[0m\u001b[0;34m\u001b[0m\u001b[0m\n\u001b[0;32m----> 2\u001b[0;31m \u001b[0mfinal_df\u001b[0m \u001b[0;34m=\u001b[0m \u001b[0mpd\u001b[0m\u001b[0;34m.\u001b[0m\u001b[0mDataFrame\u001b[0m\u001b[0;34m(\u001b[0m\u001b[0;34m{\u001b[0m\u001b[0;34m'Actual'\u001b[0m\u001b[0;34m:\u001b[0m \u001b[0my_test\u001b[0m\u001b[0;34m,\u001b[0m \u001b[0;34m'Predicted'\u001b[0m\u001b[0;34m:\u001b[0m \u001b[0my_pred\u001b[0m\u001b[0;34m}\u001b[0m\u001b[0;34m)\u001b[0m\u001b[0;34m\u001b[0m\u001b[0;34m\u001b[0m\u001b[0m\n\u001b[0m\u001b[1;32m      3\u001b[0m \u001b[0mfinal_df\u001b[0m\u001b[0;34m\u001b[0m\u001b[0;34m\u001b[0m\u001b[0m\n",
            "\u001b[0;32m/usr/local/lib/python3.7/dist-packages/pandas/core/frame.py\u001b[0m in \u001b[0;36m__init__\u001b[0;34m(self, data, index, columns, dtype, copy)\u001b[0m\n\u001b[1;32m    466\u001b[0m \u001b[0;34m\u001b[0m\u001b[0m\n\u001b[1;32m    467\u001b[0m         \u001b[0;32melif\u001b[0m \u001b[0misinstance\u001b[0m\u001b[0;34m(\u001b[0m\u001b[0mdata\u001b[0m\u001b[0;34m,\u001b[0m \u001b[0mdict\u001b[0m\u001b[0;34m)\u001b[0m\u001b[0;34m:\u001b[0m\u001b[0;34m\u001b[0m\u001b[0;34m\u001b[0m\u001b[0m\n\u001b[0;32m--> 468\u001b[0;31m             \u001b[0mmgr\u001b[0m \u001b[0;34m=\u001b[0m \u001b[0minit_dict\u001b[0m\u001b[0;34m(\u001b[0m\u001b[0mdata\u001b[0m\u001b[0;34m,\u001b[0m \u001b[0mindex\u001b[0m\u001b[0;34m,\u001b[0m \u001b[0mcolumns\u001b[0m\u001b[0;34m,\u001b[0m \u001b[0mdtype\u001b[0m\u001b[0;34m=\u001b[0m\u001b[0mdtype\u001b[0m\u001b[0;34m)\u001b[0m\u001b[0;34m\u001b[0m\u001b[0;34m\u001b[0m\u001b[0m\n\u001b[0m\u001b[1;32m    469\u001b[0m         \u001b[0;32melif\u001b[0m \u001b[0misinstance\u001b[0m\u001b[0;34m(\u001b[0m\u001b[0mdata\u001b[0m\u001b[0;34m,\u001b[0m \u001b[0mma\u001b[0m\u001b[0;34m.\u001b[0m\u001b[0mMaskedArray\u001b[0m\u001b[0;34m)\u001b[0m\u001b[0;34m:\u001b[0m\u001b[0;34m\u001b[0m\u001b[0;34m\u001b[0m\u001b[0m\n\u001b[1;32m    470\u001b[0m             \u001b[0;32mimport\u001b[0m \u001b[0mnumpy\u001b[0m\u001b[0;34m.\u001b[0m\u001b[0mma\u001b[0m\u001b[0;34m.\u001b[0m\u001b[0mmrecords\u001b[0m \u001b[0;32mas\u001b[0m \u001b[0mmrecords\u001b[0m\u001b[0;34m\u001b[0m\u001b[0;34m\u001b[0m\u001b[0m\n",
            "\u001b[0;32m/usr/local/lib/python3.7/dist-packages/pandas/core/internals/construction.py\u001b[0m in \u001b[0;36minit_dict\u001b[0;34m(data, index, columns, dtype)\u001b[0m\n\u001b[1;32m    281\u001b[0m             \u001b[0marr\u001b[0m \u001b[0;32mif\u001b[0m \u001b[0;32mnot\u001b[0m \u001b[0mis_datetime64tz_dtype\u001b[0m\u001b[0;34m(\u001b[0m\u001b[0marr\u001b[0m\u001b[0;34m)\u001b[0m \u001b[0;32melse\u001b[0m \u001b[0marr\u001b[0m\u001b[0;34m.\u001b[0m\u001b[0mcopy\u001b[0m\u001b[0;34m(\u001b[0m\u001b[0;34m)\u001b[0m \u001b[0;32mfor\u001b[0m \u001b[0marr\u001b[0m \u001b[0;32min\u001b[0m \u001b[0marrays\u001b[0m\u001b[0;34m\u001b[0m\u001b[0;34m\u001b[0m\u001b[0m\n\u001b[1;32m    282\u001b[0m         ]\n\u001b[0;32m--> 283\u001b[0;31m     \u001b[0;32mreturn\u001b[0m \u001b[0marrays_to_mgr\u001b[0m\u001b[0;34m(\u001b[0m\u001b[0marrays\u001b[0m\u001b[0;34m,\u001b[0m \u001b[0mdata_names\u001b[0m\u001b[0;34m,\u001b[0m \u001b[0mindex\u001b[0m\u001b[0;34m,\u001b[0m \u001b[0mcolumns\u001b[0m\u001b[0;34m,\u001b[0m \u001b[0mdtype\u001b[0m\u001b[0;34m=\u001b[0m\u001b[0mdtype\u001b[0m\u001b[0;34m)\u001b[0m\u001b[0;34m\u001b[0m\u001b[0;34m\u001b[0m\u001b[0m\n\u001b[0m\u001b[1;32m    284\u001b[0m \u001b[0;34m\u001b[0m\u001b[0m\n\u001b[1;32m    285\u001b[0m \u001b[0;34m\u001b[0m\u001b[0m\n",
            "\u001b[0;32m/usr/local/lib/python3.7/dist-packages/pandas/core/internals/construction.py\u001b[0m in \u001b[0;36marrays_to_mgr\u001b[0;34m(arrays, arr_names, index, columns, dtype, verify_integrity)\u001b[0m\n\u001b[1;32m     76\u001b[0m         \u001b[0;31m# figure out the index, if necessary\u001b[0m\u001b[0;34m\u001b[0m\u001b[0;34m\u001b[0m\u001b[0;34m\u001b[0m\u001b[0m\n\u001b[1;32m     77\u001b[0m         \u001b[0;32mif\u001b[0m \u001b[0mindex\u001b[0m \u001b[0;32mis\u001b[0m \u001b[0;32mNone\u001b[0m\u001b[0;34m:\u001b[0m\u001b[0;34m\u001b[0m\u001b[0;34m\u001b[0m\u001b[0m\n\u001b[0;32m---> 78\u001b[0;31m             \u001b[0mindex\u001b[0m \u001b[0;34m=\u001b[0m \u001b[0mextract_index\u001b[0m\u001b[0;34m(\u001b[0m\u001b[0marrays\u001b[0m\u001b[0;34m)\u001b[0m\u001b[0;34m\u001b[0m\u001b[0;34m\u001b[0m\u001b[0m\n\u001b[0m\u001b[1;32m     79\u001b[0m         \u001b[0;32melse\u001b[0m\u001b[0;34m:\u001b[0m\u001b[0;34m\u001b[0m\u001b[0;34m\u001b[0m\u001b[0m\n\u001b[1;32m     80\u001b[0m             \u001b[0mindex\u001b[0m \u001b[0;34m=\u001b[0m \u001b[0mensure_index\u001b[0m\u001b[0;34m(\u001b[0m\u001b[0mindex\u001b[0m\u001b[0;34m)\u001b[0m\u001b[0;34m\u001b[0m\u001b[0;34m\u001b[0m\u001b[0m\n",
            "\u001b[0;32m/usr/local/lib/python3.7/dist-packages/pandas/core/internals/construction.py\u001b[0m in \u001b[0;36mextract_index\u001b[0;34m(data)\u001b[0m\n\u001b[1;32m    385\u001b[0m \u001b[0;34m\u001b[0m\u001b[0m\n\u001b[1;32m    386\u001b[0m         \u001b[0;32mif\u001b[0m \u001b[0;32mnot\u001b[0m \u001b[0mindexes\u001b[0m \u001b[0;32mand\u001b[0m \u001b[0;32mnot\u001b[0m \u001b[0mraw_lengths\u001b[0m\u001b[0;34m:\u001b[0m\u001b[0;34m\u001b[0m\u001b[0;34m\u001b[0m\u001b[0m\n\u001b[0;32m--> 387\u001b[0;31m             \u001b[0;32mraise\u001b[0m \u001b[0mValueError\u001b[0m\u001b[0;34m(\u001b[0m\u001b[0;34m\"If using all scalar values, you must pass an index\"\u001b[0m\u001b[0;34m)\u001b[0m\u001b[0;34m\u001b[0m\u001b[0;34m\u001b[0m\u001b[0m\n\u001b[0m\u001b[1;32m    388\u001b[0m \u001b[0;34m\u001b[0m\u001b[0m\n\u001b[1;32m    389\u001b[0m         \u001b[0;32mif\u001b[0m \u001b[0mhave_series\u001b[0m\u001b[0;34m:\u001b[0m\u001b[0;34m\u001b[0m\u001b[0;34m\u001b[0m\u001b[0m\n",
            "\u001b[0;31mValueError\u001b[0m: If using all scalar values, you must pass an index"
          ]
        }
      ]
    },
    {
      "cell_type": "code",
      "metadata": {
        "id": "Qf6kAEADWx8j"
      },
      "source": [
        ""
      ],
      "execution_count": null,
      "outputs": []
    }
  ]
}