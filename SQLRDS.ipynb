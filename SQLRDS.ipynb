{
  "nbformat": 4,
  "nbformat_minor": 0,
  "metadata": {
    "colab": {
      "name": "SQLRDS.ipynb",
      "provenance": [],
      "collapsed_sections": [],
      "authorship_tag": "ABX9TyORc6mqcQI5wqVAp+Q3pDVf",
      "include_colab_link": true
    },
    "kernelspec": {
      "name": "python3",
      "display_name": "Python 3"
    },
    "language_info": {
      "name": "python"
    }
  },
  "cells": [
    {
      "cell_type": "markdown",
      "metadata": {
        "id": "view-in-github",
        "colab_type": "text"
      },
      "source": [
        "<a href=\"https://colab.research.google.com/github/NamanNYC/Final_Project/blob/Steven/SQLRDS.ipynb\" target=\"_parent\"><img src=\"https://colab.research.google.com/assets/colab-badge.svg\" alt=\"Open In Colab\"/></a>"
      ]
    },
    {
      "cell_type": "markdown",
      "metadata": {
        "id": "eDvoLBNgF4zV"
      },
      "source": [
        "# Database Setup\n",
        "- Create RDS database tie-in with RDS\n",
        "- Import Raw CSV tables into Datatbase\n",
        "---"
      ]
    },
    {
      "cell_type": "code",
      "metadata": {
        "colab": {
          "base_uri": "https://localhost:8080/"
        },
        "id": "YZPGWxavBwDq",
        "outputId": "2883002c-9690-49cd-c9fc-8caef7d9dd3a"
      },
      "source": [
        "import os\n",
        "# Find the latest version of spark 3.0 from http://www.apache.org/dist/spark/ and enter as the spark version\n",
        "# For example:\n",
        "# spark_version = 'spark-3.0.3'\n",
        "spark_version = 'spark-3.0.3'\n",
        "os.environ['SPARK_VERSION']=spark_version\n",
        "\n",
        "# Install Spark and Java\n",
        "!apt-get update\n",
        "!apt-get install openjdk-11-jdk-headless -qq > /dev/null\n",
        "!wget -q http://www.apache.org/dist/spark/$SPARK_VERSION/$SPARK_VERSION-bin-hadoop2.7.tgz\n",
        "!tar xf $SPARK_VERSION-bin-hadoop2.7.tgz\n",
        "!pip install -q findspark\n",
        "\n",
        "# Set Environment Variables\n",
        "import os\n",
        "os.environ[\"JAVA_HOME\"] = \"/usr/lib/jvm/java-11-openjdk-amd64\"\n",
        "os.environ[\"SPARK_HOME\"] = f\"/content/{spark_version}-bin-hadoop2.7\"\n",
        "\n",
        "# Start a SparkSession\n",
        "import findspark\n",
        "findspark.init()"
      ],
      "execution_count": null,
      "outputs": [
        {
          "output_type": "stream",
          "name": "stdout",
          "text": [
            "\r0% [Working]\r            \rGet:1 http://security.ubuntu.com/ubuntu bionic-security InRelease [88.7 kB]\n",
            "\r0% [Connecting to archive.ubuntu.com] [1 InRelease 14.2 kB/88.7 kB 16%] [Connec\r                                                                               \rGet:2 https://cloud.r-project.org/bin/linux/ubuntu bionic-cran40/ InRelease [3,626 B]\n",
            "\r0% [Connecting to archive.ubuntu.com] [1 InRelease 14.2 kB/88.7 kB 16%] [2 InRe\r0% [Connecting to archive.ubuntu.com] [1 InRelease 43.1 kB/88.7 kB 49%] [Connec\r0% [2 InRelease gpgv 3,626 B] [Connecting to archive.ubuntu.com] [1 InRelease 4\r                                                                               \rIgn:3 https://developer.download.nvidia.com/compute/cuda/repos/ubuntu1804/x86_64  InRelease\n",
            "\r0% [2 InRelease gpgv 3,626 B] [Connecting to archive.ubuntu.com (91.189.88.152)\r0% [2 InRelease gpgv 3,626 B] [Connecting to archive.ubuntu.com (91.189.88.152)\r                                                                               \rIgn:4 https://developer.download.nvidia.com/compute/machine-learning/repos/ubuntu1804/x86_64  InRelease\n",
            "\r0% [2 InRelease gpgv 3,626 B] [Connecting to archive.ubuntu.com (91.189.88.152)\r                                                                               \rGet:5 http://ppa.launchpad.net/c2d4u.team/c2d4u4.0+/ubuntu bionic InRelease [15.9 kB]\n",
            "\r0% [2 InRelease gpgv 3,626 B] [Connecting to archive.ubuntu.com (91.189.88.152)\r                                                                               \rGet:6 https://developer.download.nvidia.com/compute/cuda/repos/ubuntu1804/x86_64  Release [696 B]\n",
            "\r0% [2 InRelease gpgv 3,626 B] [Connecting to archive.ubuntu.com (91.189.88.152)\r0% [2 InRelease gpgv 3,626 B] [Connecting to archive.ubuntu.com (91.189.88.152)\r                                                                               \rHit:7 https://developer.download.nvidia.com/compute/machine-learning/repos/ubuntu1804/x86_64  Release\n",
            "Get:8 https://developer.download.nvidia.com/compute/cuda/repos/ubuntu1804/x86_64  Release.gpg [836 B]\n",
            "Hit:9 http://archive.ubuntu.com/ubuntu bionic InRelease\n",
            "Get:10 http://archive.ubuntu.com/ubuntu bionic-updates InRelease [88.7 kB]\n",
            "Hit:11 http://ppa.launchpad.net/cran/libgit2/ubuntu bionic InRelease\n",
            "Hit:12 http://ppa.launchpad.net/deadsnakes/ppa/ubuntu bionic InRelease\n",
            "Get:13 http://security.ubuntu.com/ubuntu bionic-security/universe amd64 Packages [1,428 kB]\n",
            "Get:14 http://archive.ubuntu.com/ubuntu bionic-backports InRelease [74.6 kB]\n",
            "Hit:15 http://ppa.launchpad.net/graphics-drivers/ppa/ubuntu bionic InRelease\n",
            "Get:16 http://security.ubuntu.com/ubuntu bionic-security/main amd64 Packages [2,320 kB]\n",
            "Get:17 http://security.ubuntu.com/ubuntu bionic-security/restricted amd64 Packages [561 kB]\n",
            "Get:19 https://developer.download.nvidia.com/compute/cuda/repos/ubuntu1804/x86_64  Packages [717 kB]\n",
            "Get:20 http://ppa.launchpad.net/c2d4u.team/c2d4u4.0+/ubuntu bionic/main Sources [1,796 kB]\n",
            "Get:21 http://ppa.launchpad.net/c2d4u.team/c2d4u4.0+/ubuntu bionic/main amd64 Packages [919 kB]\n",
            "Get:22 http://archive.ubuntu.com/ubuntu bionic-updates/main amd64 Packages [2,755 kB]\n",
            "Get:23 http://archive.ubuntu.com/ubuntu bionic-updates/universe amd64 Packages [2,202 kB]\n",
            "Get:24 http://archive.ubuntu.com/ubuntu bionic-updates/restricted amd64 Packages [594 kB]\n",
            "Fetched 13.6 MB in 4s (3,420 kB/s)\n",
            "Reading package lists... Done\n"
          ]
        }
      ]
    },
    {
      "cell_type": "code",
      "metadata": {
        "colab": {
          "base_uri": "https://localhost:8080/"
        },
        "id": "Eb1EuHK3B1LH",
        "outputId": "4a25cb47-b386-41fe-ff55-75b33b4dab32"
      },
      "source": [
        "# Download the Postgres driver that will allow Spark to interact with Postgres.\n",
        "!wget https://jdbc.postgresql.org/download/postgresql-42.2.16.jar"
      ],
      "execution_count": null,
      "outputs": [
        {
          "output_type": "stream",
          "name": "stdout",
          "text": [
            "--2021-09-09 03:44:14--  https://jdbc.postgresql.org/download/postgresql-42.2.16.jar\n",
            "Resolving jdbc.postgresql.org (jdbc.postgresql.org)... 72.32.157.228, 2001:4800:3e1:1::228\n",
            "Connecting to jdbc.postgresql.org (jdbc.postgresql.org)|72.32.157.228|:443... connected.\n",
            "HTTP request sent, awaiting response... 200 OK\n",
            "Length: 1002883 (979K) [application/java-archive]\n",
            "Saving to: ‘postgresql-42.2.16.jar’\n",
            "\n",
            "postgresql-42.2.16. 100%[===================>] 979.38K  --.-KB/s    in 0.09s   \n",
            "\n",
            "2021-09-09 03:44:14 (11.2 MB/s) - ‘postgresql-42.2.16.jar’ saved [1002883/1002883]\n",
            "\n"
          ]
        }
      ]
    },
    {
      "cell_type": "code",
      "metadata": {
        "id": "vHT0UJSZB1ln"
      },
      "source": [
        "from pyspark.sql import SparkSession\n",
        "spark = SparkSession.builder.appName(\"LMPT-Forest-Fires\").config(\"spark.driver.extraClassPath\",\"/content/postgresql-42.2.16.jar\").getOrCreate()"
      ],
      "execution_count": null,
      "outputs": []
    },
    {
      "cell_type": "markdown",
      "metadata": {
        "id": "Sjv_WPR4H37c"
      },
      "source": [
        "Connection String to write into DB"
      ]
    },
    {
      "cell_type": "code",
      "metadata": {
        "id": "ksKBB5KyH6-Q"
      },
      "source": [
        "connection_string = 'lmpt-finalproject.coke2w4vs8wf.us-east-2.rds.amazonaws.com'\n",
        "password = 'lmptdatagroup' #obtain this later from an add\n",
        "database_name = 'postgres'\n",
        "\n",
        "# Configure settings for RDS\n",
        "mode = \"append\"\n",
        "jdbc_url=f\"jdbc:postgresql://{connection_string}:5432/{database_name}\"\n",
        "config = {\"user\":\"postgres\", \n",
        "          \"password\": password, \n",
        "          \"driver\":\"org.postgresql.Driver\"}"
      ],
      "execution_count": null,
      "outputs": []
    },
    {
      "cell_type": "markdown",
      "metadata": {
        "id": "FVHvrMZ3H8vj"
      },
      "source": [
        "\n",
        "Import first CSV and write to Table\n",
        "\n"
      ]
    },
    {
      "cell_type": "code",
      "metadata": {
        "id": "m0Nc_XbiB3RL"
      },
      "source": [
        "\n",
        "from pyspark import SparkFiles\n",
        "url = \"https://wildfire.alberta.ca/resources/historical-data/documents/fires_2006to2018.csv\"\n",
        "spark.sparkContext.addFile(url)\n",
        "fire_df = spark.read.option(\"encoding\", \"UTF-8\").csv(SparkFiles.get(\"\"), sep=\",\", header=True, inferSchema=True)\n"
      ],
      "execution_count": null,
      "outputs": []
    },
    {
      "cell_type": "code",
      "metadata": {
        "id": "HQkAo6AGB4c4"
      },
      "source": [
        "# Write review_id_df to table in RDS\n",
        "df.write.jdbc(url=jdbc_url, table='fire_df', mode=mode, properties=config)"
      ],
      "execution_count": null,
      "outputs": []
    },
    {
      "cell_type": "code",
      "metadata": {
        "colab": {
          "base_uri": "https://localhost:8080/"
        },
        "id": "RjBdCO-hJmFF",
        "outputId": "b0402e6b-c1f0-422b-d7e5-4dd8434bb593"
      },
      "source": [
        "fire_df.show()"
      ],
      "execution_count": null,
      "outputs": [
        {
          "output_type": "stream",
          "name": "stdout",
          "text": [
            "+-----------+---------+---------+-------------+-------------------+-------------------+------------+----------+----------------------+-----------------------+------------------+-------------------+------------------------+----------------------+-------------------+-------------------+------------------+-------------------+--------------+---------+-------------------+-------------------+-------------------+------------------------+------------------------+-----------------+---------+----------------------+----------------------------+---------+------------------+-------------------+-----------+-------------------+-----------+----------+-----------+-------------------+-----------+\n",
            "|fire_number|fire_name|fire_year|calendar_year|assessment_datetime|assessment_hectares|current_size|size_class|fire_location_latitude|fire_location_longitude|       fire_origin| general_cause_desc|industry_identifier_desc|responsible_group_desc|     activity_class|         true_cause|permit_detail_desc|    fire_start_date|det_agent_type|det_agent|    discovered_date|      reported_date|start_for_fire_date|fire_fighting_start_date|fire_fighting_start_size|initial_action_by|fire_type|fire_position_on_slope|weather_conditions_over_fire|fuel_type|   other_fuel_type|         bh_fs_date|bh_hectares|         uc_fs_date|uc_hectares|to_fs_date|to_hectares|         ex_fs_date|ex_hectares|\n",
            "+-----------+---------+---------+-------------+-------------------+-------------------+------------+----------+----------------------+-----------------------+------------------+-------------------+------------------------+----------------------+-------------------+-------------------+------------------+-------------------+--------------+---------+-------------------+-------------------+-------------------+------------------------+------------------------+-----------------+---------+----------------------+----------------------------+---------+------------------+-------------------+-----------+-------------------+-----------+----------+-----------+-------------------+-----------+\n",
            "|     CWF001|     null|     2006|         2006|2006-04-02 16:00:00|                0.2|         0.2|         B|             51.152933|              -115.0346|Indian Reservation|           Resident|                    null|              Resident|       Unclassified|        Unsafe Fire|              null|2006-04-02 14:25:00|           UNP|      310|2006-04-02 14:27:00|2006-04-02 14:30:00|2006-04-02 14:45:00|                      NA|                      NA|  Fire Department|  Surface|                  Flat|                       Clear|      O1b|              null|2006-04-02 16:00:00|        0.2|2006-04-02 16:00:00|        0.2|        NA|         NA|2006-04-03 18:00:00|        0.2|\n",
            "|     CWF002|     null|     2006|         2006|2006-04-03 16:45:00|               0.01|        0.01|         A|             51.157633|            -115.002133|Indian Reservation|       Undetermined|                    null|                  null|               null|               null|              null|2006-04-03 15:30:00|           UNP|      310|                 NA|2006-04-03 15:40:00|2006-04-03 15:50:00|                      NA|                      NA|  Fire Department|  Surface|                  Flat|                      Cloudy|      O1b|              null|2006-04-03 16:45:00|       0.01|2006-04-03 16:45:00|       0.01|        NA|         NA|2006-04-03 16:50:00|       0.01|\n",
            "|     CWF003|     null|     2006|         2006|2006-04-08 20:05:00|               0.01|        0.01|         A|               51.1944|            -114.516167|Indian Reservation|         Recreation|                    null|                Hikers|            Cooking|     Abandoned Fire|              null|2006-04-08 19:00:00|           UNP|      310|                 NA|2006-04-08 19:16:00|2006-04-08 19:30:00|     2006-04-08 20:05:00|                    0.01|        FPD Staff|   Ground|                Bottom|                      Cloudy|     null|          Campfire|2006-04-08 20:05:00|       0.01|2006-04-08 20:05:00|       0.01|        NA|         NA|2006-04-09 20:30:00|       0.01|\n",
            "|     CWF004|     null|     2006|         2006|2006-04-13 18:20:00|               0.75|        0.75|         B|             51.125617|            -114.841683|Indian Reservation|           Resident|                    null|              Resident|            Smoking|  Burning Substance|              null|2006-04-13 17:33:00|           UNP|      PUB|2006-04-13 17:33:00|2006-04-13 17:35:00|2006-04-13 17:52:00|                      NA|                      NA|           Public|  Surface|                Bottom|                      Cloudy|      O1a|              null|2006-04-13 18:20:00|       0.75|2006-04-13 18:20:00|       0.75|        NA|         NA|2006-04-13 20:00:00|       0.75|\n",
            "|     CWF005|     null|     2006|         2006|2006-04-14 17:25:00|               0.01|        0.01|         A|             50.409833|            -114.478967|Indian Reservation|           Resident|                    null|              Resident|            Cooking|        Unsafe Fire|              null|2006-04-14 15:17:00|           UNP|      PUB|2006-04-14 15:17:00|2006-04-14 15:19:00|2006-04-14 15:31:00|                      NA|                      NA|       Land Owner|  Surface|                  Flat|                      Cloudy|      O1a|              null|2006-04-14 17:25:00|       0.01|2006-04-14 17:25:00|       0.01|        NA|         NA|2006-04-14 17:40:00|       0.01|\n",
            "|     CWF006|     null|     2006|         2006|2006-04-17 16:25:00|               0.02|        0.02|         A|              51.18765|            -114.874433|Indian Reservation|           Resident|                    null|              Resident|             Refuse|Unpredictable Event|              null|2006-04-17 14:52:00|           UNP|      PUB|2006-04-17 14:52:00|2006-04-17 14:53:00|2006-04-17 15:10:00|                      NA|                      NA|       Land Owner|  Surface|                  Flat|                      Cloudy|      O1a|              null|2006-04-17 16:25:00|       0.02|2006-04-17 16:25:00|       0.02|        NA|         NA|2006-04-17 16:40:00|       0.02|\n",
            "|     CWF007|     null|     2006|         2006|2006-04-18 17:03:00|                0.2|         0.2|         B|             51.175633|            -114.897933|Indian Reservation|           Resident|                    null|              Resident|             Refuse|Unpredictable Event|              null|2006-04-18 17:00:00|           UNP|      LFS|2006-04-18 17:00:00|2006-04-18 17:01:00|2006-04-18 17:01:00|                      NA|                      NA|       Land Owner|  Surface|                  Flat|                       Clear|      O1b|              null|2006-04-18 17:10:00|        0.2|2006-04-18 17:10:00|        0.2|        NA|         NA|2006-04-18 17:15:00|        0.2|\n",
            "|     CWF008|     null|     2006|         2006|2006-04-19 21:05:00|                0.3|         0.3|         B|              51.16685|            -114.899617|Indian Reservation|           Resident|                    null|              Resident|Traditional Burning|        Unsafe Fire|              null|2006-04-19 20:35:00|           LKT|       BP|2006-04-19 20:38:00|2006-04-19 20:40:00|2006-04-19 20:40:00|                      NA|                      NA|  Fire Department|  Surface|                  Flat|                       Clear|      O1b|              null|2006-04-19 21:05:00|        0.3|2006-04-19 21:05:00|        0.3|        NA|         NA|2006-04-20 11:40:00|        0.3|\n",
            "|     CWF009|     null|     2006|         2006|2006-04-20 12:22:00|                3.5|        11.6|         C|             51.289333|              -114.8975|      Private Land|         Recreation|                    null|  Others (explain i...|         Ammunition|  Burning Substance|              null|2006-04-20 11:30:00|           LKT|       BP|2006-04-20 12:04:00|2006-04-20 12:05:00|2006-04-20 12:07:00|                      NA|                      NA|           Public|  Surface|                  Flat|                       Clear|      O1b|              null|2006-04-20 13:15:00|        4.0|2006-04-20 13:45:00|        4.0|        NA|         NA|2006-04-25 11:30:00|       11.6|\n",
            "|     CWF010|     null|     2006|         2006|2006-04-22 20:26:00|                0.2|         0.2|         B|             51.156517|            -114.861267|Indian Reservation|           Resident|                    null|              Resident|             Refuse|        Unsafe Fire|              null|2006-04-22 19:20:00|           LKT|       BP|2006-04-22 19:24:00|2006-04-22 19:26:00|2006-04-22 19:52:00|     2006-04-22 20:26:00|                     0.2|        FPD Staff|  Surface|                Bottom|                       Clear|     null|           Garbage|2006-04-22 20:26:00|        0.2|2006-04-22 20:42:00|        0.2|        NA|         NA|2006-04-23 14:00:00|        0.2|\n",
            "|     CWF011|     null|     2006|         2006|2006-04-24 17:33:00|                0.7|         0.7|         B|             50.396367|            -114.500367|Indian Reservation|           Resident|                    null|              Resident|              Slash|        Unsafe Fire|              null|2006-04-24 16:30:00|           UNP|     GOVT|                 NA|2006-04-24 17:02:00|2006-04-24 17:05:00|                      NA|                      NA|  Fire Department|   Ground|                  Flat|                       Clear|      O1a|              null|2006-04-24 17:33:00|        0.7|2006-04-24 17:33:00|        0.7|        NA|         NA|2006-04-26 17:45:00|        0.7|\n",
            "|     CWF012|     null|     2006|         2006|2006-04-25 12:06:00|                0.1|         0.1|         A|               51.1632|            -114.903617|Indian Reservation|Power Line Industry|                    null|  Others (explain i...|        Power Lines|Unpredictable Event|              null|2006-04-25 12:00:00|           LKT|       BP|2006-04-25 12:02:00|2006-04-25 12:03:00|2006-04-25 12:03:00|     2006-04-25 12:06:00|                     0.1|            HAC1H|  Surface|                  Flat|                       Clear|      O1a|              null|2006-04-25 12:10:00|        0.1|2006-04-25 12:10:00|        0.1|        NA|         NA|2006-04-25 13:00:00|        0.1|\n",
            "|     CWF013|     null|     2006|         2006|2006-04-26 11:09:00|                0.2|         0.3|         B|             51.170333|            -114.856667|Indian Reservation|           Resident|                    null|              Resident|Traditional Burning|        Unsafe Fire|              null|2006-04-26 11:00:00|           LKT|       BP|2006-04-26 11:03:00|2006-04-26 11:03:00|2006-04-26 11:04:00|                      NA|                      NA|  Fire Department|  Surface|                  Flat|                       Clear|      O1a|              null|2006-04-26 11:09:00|        0.2|2006-04-26 11:25:00|        0.3|        NA|         NA|2006-04-26 11:59:00|        0.3|\n",
            "|     CWF014|     null|     2006|         2006|2006-04-29 00:25:00|               0.01|        0.01|         A|             49.597783|              -114.4384|      Private Land|         Recreation|                    null|               Campers|            Cooking|     Abandoned Fire|              null|2006-04-28 21:00:00|           UNP|      310|2006-04-28 23:45:00|2006-04-28 23:50:00|2006-04-29 00:05:00|     2006-04-29 00:26:00|                    0.01|        FPD Staff|   Ground|             Lower 1/3|                       Clear|     null|Abandoned campfire|2006-04-29 00:25:00|       0.01|2006-04-29 00:25:00|       0.01|        NA|         NA|2006-04-29 01:00:00|       0.01|\n",
            "|     CWF015|     null|     2006|         2006|2006-04-29 18:03:00|               0.02|        0.02|         A|             51.106738|            -114.913698|Indian Reservation|           Resident|                    null|              Resident|           Children|        Unsafe Fire|              null|2006-04-29 17:40:00|           LKT|       BP|2006-04-29 17:44:00|2006-04-29 17:45:00|2006-04-29 17:52:00|                      NA|                      NA|           Public|  Surface|                Bottom|                      Cloudy|      O1a|              null|2006-04-29 18:03:00|       0.02|2006-04-29 18:15:00|       0.02|        NA|         NA|2006-04-29 19:45:00|       0.02|\n",
            "|     CWF016|     null|     2006|         2006|2006-04-29 19:08:00|                0.1|         0.1|         A|              51.15705|            -114.863867|Indian Reservation|           Resident|                    null|              Resident|             Refuse|        Unsafe Fire|              null|2006-04-29 18:52:00|           LKT|       BP|2006-04-29 18:56:00|2006-04-29 18:57:00|2006-04-29 19:03:00|     2006-04-29 19:12:00|                     0.1|            HAC1F|  Surface|                  Flat|                      Cloudy|     null|      garbage dump|2006-04-29 19:30:00|        0.1|2006-04-29 20:10:00|        0.1|        NA|         NA|2006-05-05 13:30:00|        0.1|\n",
            "|     CWF017|     null|     2006|         2006|2006-05-05 15:50:00|               0.01|        0.01|         A|             51.101867|              -114.9564|Indian Reservation|           Resident|                    null|              Resident|             Refuse|        Unsafe Fire|              null|2006-05-05 15:22:00|           LKT|       BP|2006-05-05 15:26:00|2006-05-05 15:28:00|2006-05-05 15:35:00|                      NA|                      NA|  Fire Department|  Surface|                  Flat|                      Cloudy|      O1a|              null|2006-05-05 15:50:00|       0.01|2006-05-05 15:50:00|       0.01|        NA|         NA|2006-05-05 16:48:00|       0.01|\n",
            "|     CWF018|     null|     2006|         2006|2006-05-07 06:45:00|               0.03|        0.03|         A|              51.13865|            -114.876883|Indian Reservation|           Resident|                    null|              Resident|       Unclassified|Unpredictable Event|              null|2006-05-07 05:00:00|           LKT|       BP|2006-05-07 05:45:00|2006-05-07 05:47:00|2006-05-07 06:00:00|                      NA|                      NA|  Fire Department|   Ground|             Upper 1/3|                      Cloudy|      O1a|              null|2006-05-07 06:45:00|       0.03|2006-05-07 06:45:00|       0.03|        NA|         NA|2006-05-07 07:30:00|       0.03|\n",
            "|     CWF019|     null|     2006|         2006|2006-05-09 15:56:00|               0.05|        0.05|         A|               51.2065|               -114.935|Indian Reservation|           Resident|                    null|              Resident|              Slash|        Unsafe Fire|              null|2006-05-09 15:15:00|           LKT|       BP|2006-05-09 15:19:00|2006-05-09 15:21:00|2006-05-09 15:22:00|                      NA|                      NA|           Public|  Surface|                  Flat|                      Cloudy|      O1a|              null|2006-05-09 15:56:00|       0.05|2006-05-09 15:56:00|       0.05|        NA|         NA|2006-05-09 17:00:00|       0.05|\n",
            "|     CWF020|     null|     2006|         2006|2006-05-14 17:29:00|               0.01|        0.01|         A|             51.139444|              -114.9025|Indian Reservation|           Resident|                    null|              Resident|Traditional Burning|        Unsafe Fire|              null|2006-05-14 17:20:00|           UNP|      LFS|2006-05-14 17:26:00|2006-05-14 17:26:00|2006-05-14 17:27:00|     2006-05-14 17:29:00|                    0.01|            HAC1F|  Surface|                  Flat|                       Clear|      O1a|              null|2006-05-14 17:29:00|       0.01|2006-05-14 17:29:00|       0.01|        NA|         NA|2006-05-14 17:40:00|       0.01|\n",
            "+-----------+---------+---------+-------------+-------------------+-------------------+------------+----------+----------------------+-----------------------+------------------+-------------------+------------------------+----------------------+-------------------+-------------------+------------------+-------------------+--------------+---------+-------------------+-------------------+-------------------+------------------------+------------------------+-----------------+---------+----------------------+----------------------------+---------+------------------+-------------------+-----------+-------------------+-----------+----------+-----------+-------------------+-----------+\n",
            "only showing top 20 rows\n",
            "\n"
          ]
        }
      ]
    },
    {
      "cell_type": "markdown",
      "metadata": {
        "id": "bX15Vi3rIzh4"
      },
      "source": [
        "Start cleaning Dataframes"
      ]
    },
    {
      "cell_type": "code",
      "metadata": {
        "id": "lI1KbfqWKS9h"
      },
      "source": [
        "# Import dependencies\n",
        "from sklearn.model_selection import train_test_split\n",
        "from sklearn.preprocessing import StandardScaler\n",
        "from sklearn.linear_model import LinearRegression\n",
        "from sklearn.metrics import accuracy_score\n",
        "import pandas as pd\n",
        "import datetime as dt\n",
        "import tensorflow as tf\n",
        "import numpy as np\n",
        "import matplotlib.pyplot as plt"
      ],
      "execution_count": null,
      "outputs": []
    },
    {
      "cell_type": "code",
      "metadata": {
        "colab": {
          "base_uri": "https://localhost:8080/"
        },
        "id": "E5tE3V9vCzgJ",
        "outputId": "75f65708-22fb-4e33-9b2e-1e9889e22a54"
      },
      "source": [
        "# Clean data by creating DataFrame with selected columns\n",
        "clean_fire_df = []\n",
        "clean_fire_df = fire_df[['start_for_fire_date', 'discovered_date', 'fire_fighting_start_size','bh_hectares' ]]\n",
        "clean_fire_df.show()"
      ],
      "execution_count": null,
      "outputs": [
        {
          "output_type": "stream",
          "name": "stdout",
          "text": [
            "+-------------------+-------------------+------------------------+-----------+\n",
            "|start_for_fire_date|    discovered_date|fire_fighting_start_size|bh_hectares|\n",
            "+-------------------+-------------------+------------------------+-----------+\n",
            "|2006-04-02 14:45:00|2006-04-02 14:27:00|                      NA|        0.2|\n",
            "|2006-04-03 15:50:00|                 NA|                      NA|       0.01|\n",
            "|2006-04-08 19:30:00|                 NA|                    0.01|       0.01|\n",
            "|2006-04-13 17:52:00|2006-04-13 17:33:00|                      NA|       0.75|\n",
            "|2006-04-14 15:31:00|2006-04-14 15:17:00|                      NA|       0.01|\n",
            "|2006-04-17 15:10:00|2006-04-17 14:52:00|                      NA|       0.02|\n",
            "|2006-04-18 17:01:00|2006-04-18 17:00:00|                      NA|        0.2|\n",
            "|2006-04-19 20:40:00|2006-04-19 20:38:00|                      NA|        0.3|\n",
            "|2006-04-20 12:07:00|2006-04-20 12:04:00|                      NA|        4.0|\n",
            "|2006-04-22 19:52:00|2006-04-22 19:24:00|                     0.2|        0.2|\n",
            "|2006-04-24 17:05:00|                 NA|                      NA|        0.7|\n",
            "|2006-04-25 12:03:00|2006-04-25 12:02:00|                     0.1|        0.1|\n",
            "|2006-04-26 11:04:00|2006-04-26 11:03:00|                      NA|        0.2|\n",
            "|2006-04-29 00:05:00|2006-04-28 23:45:00|                    0.01|       0.01|\n",
            "|2006-04-29 17:52:00|2006-04-29 17:44:00|                      NA|       0.02|\n",
            "|2006-04-29 19:03:00|2006-04-29 18:56:00|                     0.1|        0.1|\n",
            "|2006-05-05 15:35:00|2006-05-05 15:26:00|                      NA|       0.01|\n",
            "|2006-05-07 06:00:00|2006-05-07 05:45:00|                      NA|       0.03|\n",
            "|2006-05-09 15:22:00|2006-05-09 15:19:00|                      NA|       0.05|\n",
            "|2006-05-14 17:27:00|2006-05-14 17:26:00|                    0.01|       0.01|\n",
            "+-------------------+-------------------+------------------------+-----------+\n",
            "only showing top 20 rows\n",
            "\n"
          ]
        }
      ]
    },
    {
      "cell_type": "code",
      "metadata": {
        "colab": {
          "base_uri": "https://localhost:8080/",
          "height": 180
        },
        "id": "S2J4Jls7KAca",
        "outputId": "0c6b5523-58c5-45df-cc01-d417ddd53c65"
      },
      "source": [
        "# Review data types\n",
        "clean_fire_df.dtypes"
      ],
      "execution_count": null,
      "outputs": [
        {
          "output_type": "error",
          "ename": "NameError",
          "evalue": "ignored",
          "traceback": [
            "\u001b[0;31m---------------------------------------------------------------------------\u001b[0m",
            "\u001b[0;31mNameError\u001b[0m                                 Traceback (most recent call last)",
            "\u001b[0;32m<ipython-input-1-3ddfa9017606>\u001b[0m in \u001b[0;36m<module>\u001b[0;34m()\u001b[0m\n\u001b[1;32m      1\u001b[0m \u001b[0;31m# Review data types\u001b[0m\u001b[0;34m\u001b[0m\u001b[0;34m\u001b[0m\u001b[0;34m\u001b[0m\u001b[0m\n\u001b[0;32m----> 2\u001b[0;31m \u001b[0mclean_fire_df\u001b[0m\u001b[0;34m.\u001b[0m\u001b[0mdtypes\u001b[0m\u001b[0;34m\u001b[0m\u001b[0;34m\u001b[0m\u001b[0m\n\u001b[0m",
            "\u001b[0;31mNameError\u001b[0m: name 'clean_fire_df' is not defined"
          ]
        }
      ]
    },
    {
      "cell_type": "code",
      "metadata": {
        "colab": {
          "base_uri": "https://localhost:8080/",
          "height": 333
        },
        "id": "s6w1bUQOKr_Z",
        "outputId": "4225d5ec-6af8-4699-955e-1e057016b3ee"
      },
      "source": [
        "# Convert objects to dates for the 2 columns\n",
        "test[['start_for_fire_date', 'discovered_date']] = clean_fire_df[['start_for_fire_date', 'discovered_date']].apply(pd.to_datetime)\n",
        "test1=clean_fire_df[['start_for_fire_date']] = pd.to_datetime(clean_fire_df[['start_for_fire_date']])\n",
        "test2 = clean_fire_df[['start_for_fire_date']].astype('datetime64[ns]')"
      ],
      "execution_count": null,
      "outputs": [
        {
          "output_type": "error",
          "ename": "AttributeError",
          "evalue": "ignored",
          "traceback": [
            "\u001b[0;31m---------------------------------------------------------------------------\u001b[0m",
            "\u001b[0;31mAttributeError\u001b[0m                            Traceback (most recent call last)",
            "\u001b[0;32m<ipython-input-47-3845096bf89c>\u001b[0m in \u001b[0;36m<module>\u001b[0;34m()\u001b[0m\n\u001b[1;32m      1\u001b[0m \u001b[0;31m# Convert objects to dates for the 2 columns\u001b[0m\u001b[0;34m\u001b[0m\u001b[0;34m\u001b[0m\u001b[0;34m\u001b[0m\u001b[0m\n\u001b[0;32m----> 2\u001b[0;31m \u001b[0mtest\u001b[0m\u001b[0;34m[\u001b[0m\u001b[0;34m[\u001b[0m\u001b[0;34m'start_for_fire_date'\u001b[0m\u001b[0;34m,\u001b[0m \u001b[0;34m'discovered_date'\u001b[0m\u001b[0;34m]\u001b[0m\u001b[0;34m]\u001b[0m \u001b[0;34m=\u001b[0m \u001b[0mclean_fire_df\u001b[0m\u001b[0;34m[\u001b[0m\u001b[0;34m[\u001b[0m\u001b[0;34m'start_for_fire_date'\u001b[0m\u001b[0;34m,\u001b[0m \u001b[0;34m'discovered_date'\u001b[0m\u001b[0;34m]\u001b[0m\u001b[0;34m]\u001b[0m\u001b[0;34m.\u001b[0m\u001b[0mapply\u001b[0m\u001b[0;34m(\u001b[0m\u001b[0mpd\u001b[0m\u001b[0;34m.\u001b[0m\u001b[0mto_datetime\u001b[0m\u001b[0;34m)\u001b[0m\u001b[0;34m\u001b[0m\u001b[0;34m\u001b[0m\u001b[0m\n\u001b[0m\u001b[1;32m      3\u001b[0m \u001b[0mtest1\u001b[0m\u001b[0;34m=\u001b[0m\u001b[0mclean_fire_df\u001b[0m\u001b[0;34m[\u001b[0m\u001b[0;34m[\u001b[0m\u001b[0;34m'start_for_fire_date'\u001b[0m\u001b[0;34m]\u001b[0m\u001b[0;34m]\u001b[0m \u001b[0;34m=\u001b[0m \u001b[0mpd\u001b[0m\u001b[0;34m.\u001b[0m\u001b[0mto_datetime\u001b[0m\u001b[0;34m(\u001b[0m\u001b[0mclean_fire_df\u001b[0m\u001b[0;34m[\u001b[0m\u001b[0;34m[\u001b[0m\u001b[0;34m'start_for_fire_date'\u001b[0m\u001b[0;34m]\u001b[0m\u001b[0;34m]\u001b[0m\u001b[0;34m)\u001b[0m\u001b[0;34m\u001b[0m\u001b[0;34m\u001b[0m\u001b[0m\n\u001b[1;32m      4\u001b[0m \u001b[0mtest2\u001b[0m \u001b[0;34m=\u001b[0m \u001b[0mclean_fire_df\u001b[0m\u001b[0;34m[\u001b[0m\u001b[0;34m[\u001b[0m\u001b[0;34m'start_for_fire_date'\u001b[0m\u001b[0;34m]\u001b[0m\u001b[0;34m]\u001b[0m\u001b[0;34m.\u001b[0m\u001b[0mastype\u001b[0m\u001b[0;34m(\u001b[0m\u001b[0;34m'datetime64[ns]'\u001b[0m\u001b[0;34m)\u001b[0m\u001b[0;34m\u001b[0m\u001b[0;34m\u001b[0m\u001b[0m\n",
            "\u001b[0;32m/content/spark-3.0.3-bin-hadoop2.7/python/pyspark/sql/dataframe.py\u001b[0m in \u001b[0;36m__getattr__\u001b[0;34m(self, name)\u001b[0m\n\u001b[1;32m   1399\u001b[0m         \u001b[0;32mif\u001b[0m \u001b[0mname\u001b[0m \u001b[0;32mnot\u001b[0m \u001b[0;32min\u001b[0m \u001b[0mself\u001b[0m\u001b[0;34m.\u001b[0m\u001b[0mcolumns\u001b[0m\u001b[0;34m:\u001b[0m\u001b[0;34m\u001b[0m\u001b[0;34m\u001b[0m\u001b[0m\n\u001b[1;32m   1400\u001b[0m             raise AttributeError(\n\u001b[0;32m-> 1401\u001b[0;31m                 \"'%s' object has no attribute '%s'\" % (self.__class__.__name__, name))\n\u001b[0m\u001b[1;32m   1402\u001b[0m         \u001b[0mjc\u001b[0m \u001b[0;34m=\u001b[0m \u001b[0mself\u001b[0m\u001b[0;34m.\u001b[0m\u001b[0m_jdf\u001b[0m\u001b[0;34m.\u001b[0m\u001b[0mapply\u001b[0m\u001b[0;34m(\u001b[0m\u001b[0mname\u001b[0m\u001b[0;34m)\u001b[0m\u001b[0;34m\u001b[0m\u001b[0;34m\u001b[0m\u001b[0m\n\u001b[1;32m   1403\u001b[0m         \u001b[0;32mreturn\u001b[0m \u001b[0mColumn\u001b[0m\u001b[0;34m(\u001b[0m\u001b[0mjc\u001b[0m\u001b[0;34m)\u001b[0m\u001b[0;34m\u001b[0m\u001b[0;34m\u001b[0m\u001b[0m\n",
            "\u001b[0;31mAttributeError\u001b[0m: 'DataFrame' object has no attribute 'apply'"
          ]
        }
      ]
    },
    {
      "cell_type": "code",
      "metadata": {
        "colab": {
          "base_uri": "https://localhost:8080/",
          "height": 476
        },
        "id": "lG7sys_vIyG7",
        "outputId": "438aa47c-a3cb-424c-eb0b-803b1f0a11c7"
      },
      "source": [
        ""
      ],
      "execution_count": null,
      "outputs": [
        {
          "output_type": "error",
          "ename": "TypeError",
          "evalue": "ignored",
          "traceback": [
            "\u001b[0;31m---------------------------------------------------------------------------\u001b[0m",
            "\u001b[0;31mTypeError\u001b[0m                                 Traceback (most recent call last)",
            "\u001b[0;32m<ipython-input-37-df92f9e793cd>\u001b[0m in \u001b[0;36m<module>\u001b[0;34m()\u001b[0m\n\u001b[1;32m      1\u001b[0m \u001b[0;31m# Convert objects to dates for the 2 columns\u001b[0m\u001b[0;34m\u001b[0m\u001b[0;34m\u001b[0m\u001b[0;34m\u001b[0m\u001b[0m\n\u001b[0;32m----> 2\u001b[0;31m \u001b[0mclean_fire_df\u001b[0m\u001b[0;34m[\u001b[0m\u001b[0;34m[\u001b[0m\u001b[0;34m'start_for_fire_date'\u001b[0m\u001b[0;34m]\u001b[0m\u001b[0;34m]\u001b[0m \u001b[0;34m=\u001b[0m \u001b[0mpd\u001b[0m\u001b[0;34m.\u001b[0m\u001b[0mto_datetime\u001b[0m\u001b[0;34m(\u001b[0m\u001b[0mclean_fire_df\u001b[0m\u001b[0;34m[\u001b[0m\u001b[0;34m[\u001b[0m\u001b[0;34m'start_for_fire_date'\u001b[0m\u001b[0;34m]\u001b[0m\u001b[0;34m]\u001b[0m\u001b[0;34m)\u001b[0m\u001b[0;34m\u001b[0m\u001b[0;34m\u001b[0m\u001b[0m\n\u001b[0m\u001b[1;32m      3\u001b[0m \u001b[0mclean_fire_df\u001b[0m\u001b[0;34m[\u001b[0m\u001b[0;34m[\u001b[0m\u001b[0;34m'discovered_date'\u001b[0m\u001b[0;34m]\u001b[0m\u001b[0;34m]\u001b[0m \u001b[0;34m=\u001b[0m \u001b[0mpd\u001b[0m\u001b[0;34m.\u001b[0m\u001b[0mto_datetime\u001b[0m\u001b[0;34m(\u001b[0m\u001b[0mclean_fire_df\u001b[0m\u001b[0;34m[\u001b[0m\u001b[0;34m[\u001b[0m\u001b[0;34m'discovered_date'\u001b[0m\u001b[0;34m]\u001b[0m\u001b[0;34m]\u001b[0m\u001b[0;34m)\u001b[0m\u001b[0;34m\u001b[0m\u001b[0;34m\u001b[0m\u001b[0m\n",
            "\u001b[0;32m/usr/local/lib/python3.7/dist-packages/pandas/core/tools/datetimes.py\u001b[0m in \u001b[0;36mto_datetime\u001b[0;34m(arg, errors, dayfirst, yearfirst, utc, format, exact, unit, infer_datetime_format, origin, cache)\u001b[0m\n\u001b[1;32m    828\u001b[0m             \u001b[0mresult\u001b[0m \u001b[0;34m=\u001b[0m \u001b[0mconvert_listlike\u001b[0m\u001b[0;34m(\u001b[0m\u001b[0marg\u001b[0m\u001b[0;34m,\u001b[0m \u001b[0mformat\u001b[0m\u001b[0;34m)\u001b[0m\u001b[0;34m\u001b[0m\u001b[0;34m\u001b[0m\u001b[0m\n\u001b[1;32m    829\u001b[0m     \u001b[0;32melse\u001b[0m\u001b[0;34m:\u001b[0m\u001b[0;34m\u001b[0m\u001b[0;34m\u001b[0m\u001b[0m\n\u001b[0;32m--> 830\u001b[0;31m         \u001b[0mresult\u001b[0m \u001b[0;34m=\u001b[0m \u001b[0mconvert_listlike\u001b[0m\u001b[0;34m(\u001b[0m\u001b[0mnp\u001b[0m\u001b[0;34m.\u001b[0m\u001b[0marray\u001b[0m\u001b[0;34m(\u001b[0m\u001b[0;34m[\u001b[0m\u001b[0marg\u001b[0m\u001b[0;34m]\u001b[0m\u001b[0;34m)\u001b[0m\u001b[0;34m,\u001b[0m \u001b[0mformat\u001b[0m\u001b[0;34m)\u001b[0m\u001b[0;34m[\u001b[0m\u001b[0;36m0\u001b[0m\u001b[0;34m]\u001b[0m\u001b[0;34m\u001b[0m\u001b[0;34m\u001b[0m\u001b[0m\n\u001b[0m\u001b[1;32m    831\u001b[0m \u001b[0;34m\u001b[0m\u001b[0m\n\u001b[1;32m    832\u001b[0m     \u001b[0;32mreturn\u001b[0m \u001b[0mresult\u001b[0m\u001b[0;34m\u001b[0m\u001b[0;34m\u001b[0m\u001b[0m\n",
            "\u001b[0;32m/usr/local/lib/python3.7/dist-packages/pandas/core/tools/datetimes.py\u001b[0m in \u001b[0;36m_convert_listlike_datetimes\u001b[0;34m(arg, format, name, tz, unit, errors, infer_datetime_format, dayfirst, yearfirst, exact)\u001b[0m\n\u001b[1;32m    464\u001b[0m             \u001b[0merrors\u001b[0m\u001b[0;34m=\u001b[0m\u001b[0merrors\u001b[0m\u001b[0;34m,\u001b[0m\u001b[0;34m\u001b[0m\u001b[0;34m\u001b[0m\u001b[0m\n\u001b[1;32m    465\u001b[0m             \u001b[0mrequire_iso8601\u001b[0m\u001b[0;34m=\u001b[0m\u001b[0mrequire_iso8601\u001b[0m\u001b[0;34m,\u001b[0m\u001b[0;34m\u001b[0m\u001b[0;34m\u001b[0m\u001b[0m\n\u001b[0;32m--> 466\u001b[0;31m             \u001b[0mallow_object\u001b[0m\u001b[0;34m=\u001b[0m\u001b[0;32mTrue\u001b[0m\u001b[0;34m,\u001b[0m\u001b[0;34m\u001b[0m\u001b[0;34m\u001b[0m\u001b[0m\n\u001b[0m\u001b[1;32m    467\u001b[0m         )\n\u001b[1;32m    468\u001b[0m \u001b[0;34m\u001b[0m\u001b[0m\n",
            "\u001b[0;32m/usr/local/lib/python3.7/dist-packages/pandas/core/arrays/datetimes.py\u001b[0m in \u001b[0;36mobjects_to_datetime64ns\u001b[0;34m(data, dayfirst, yearfirst, utc, errors, require_iso8601, allow_object)\u001b[0m\n\u001b[1;32m   2053\u001b[0m             \u001b[0mdayfirst\u001b[0m\u001b[0;34m=\u001b[0m\u001b[0mdayfirst\u001b[0m\u001b[0;34m,\u001b[0m\u001b[0;34m\u001b[0m\u001b[0;34m\u001b[0m\u001b[0m\n\u001b[1;32m   2054\u001b[0m             \u001b[0myearfirst\u001b[0m\u001b[0;34m=\u001b[0m\u001b[0myearfirst\u001b[0m\u001b[0;34m,\u001b[0m\u001b[0;34m\u001b[0m\u001b[0;34m\u001b[0m\u001b[0m\n\u001b[0;32m-> 2055\u001b[0;31m             \u001b[0mrequire_iso8601\u001b[0m\u001b[0;34m=\u001b[0m\u001b[0mrequire_iso8601\u001b[0m\u001b[0;34m,\u001b[0m\u001b[0;34m\u001b[0m\u001b[0;34m\u001b[0m\u001b[0m\n\u001b[0m\u001b[1;32m   2056\u001b[0m         )\n\u001b[1;32m   2057\u001b[0m     \u001b[0;32mexcept\u001b[0m \u001b[0mValueError\u001b[0m \u001b[0;32mas\u001b[0m \u001b[0me\u001b[0m\u001b[0;34m:\u001b[0m\u001b[0;34m\u001b[0m\u001b[0;34m\u001b[0m\u001b[0m\n",
            "\u001b[0;32mpandas/_libs/tslib.pyx\u001b[0m in \u001b[0;36mpandas._libs.tslib.array_to_datetime\u001b[0;34m()\u001b[0m\n",
            "\u001b[0;32mpandas/_libs/tslib.pyx\u001b[0m in \u001b[0;36mpandas._libs.tslib.array_to_datetime\u001b[0;34m()\u001b[0m\n",
            "\u001b[0;32mpandas/_libs/tslib.pyx\u001b[0m in \u001b[0;36mpandas._libs.tslib.array_to_datetime_object\u001b[0;34m()\u001b[0m\n",
            "\u001b[0;32mpandas/_libs/tslib.pyx\u001b[0m in \u001b[0;36mpandas._libs.tslib.array_to_datetime\u001b[0;34m()\u001b[0m\n",
            "\u001b[0;31mTypeError\u001b[0m: <class 'pyspark.sql.dataframe.DataFrame'> is not convertible to datetime"
          ]
        }
      ]
    },
    {
      "cell_type": "code",
      "metadata": {
        "colab": {
          "base_uri": "https://localhost:8080/"
        },
        "id": "Te8EQs68KES2",
        "outputId": "d2700f7c-696b-41e6-9b81-07caba79b7e0"
      },
      "source": [
        "\n",
        "# Check that the changed worked\n",
        "clean_fire_df.dtypes"
      ],
      "execution_count": null,
      "outputs": [
        {
          "output_type": "execute_result",
          "data": {
            "text/plain": [
              "[('start_for_fire_date', 'string'),\n",
              " ('discovered_date', 'string'),\n",
              " ('fire_fighting_start_size', 'string'),\n",
              " ('bh_hectares', 'double')]"
            ]
          },
          "metadata": {},
          "execution_count": 23
        }
      ]
    },
    {
      "cell_type": "code",
      "metadata": {
        "id": "dXBfzRFXKFIk"
      },
      "source": [
        ""
      ],
      "execution_count": null,
      "outputs": []
    }
  ]
}